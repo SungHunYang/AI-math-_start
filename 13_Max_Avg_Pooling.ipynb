{
  "nbformat": 4,
  "nbformat_minor": 0,
  "metadata": {
    "colab": {
      "name": "13. Max / Avg Pooling.ipynb",
      "provenance": [],
      "collapsed_sections": [],
      "authorship_tag": "ABX9TyNrORrY1agj7AG0u5eEFlyq"
    },
    "kernelspec": {
      "name": "python3",
      "display_name": "Python 3"
    },
    "language_info": {
      "name": "python"
    }
  },
  "cells": [
    {
      "cell_type": "markdown",
      "source": [
        "Max Pooling"
      ],
      "metadata": {
        "id": "3jvoidY29nPD"
      }
    },
    {
      "cell_type": "code",
      "source": [
        "import tensorflow as tf\n",
        "import numpy as np\n",
        "\n",
        "from tensorflow.keras.layers import MaxPooling1D\n",
        "\n",
        "L, f, s = 10 ,2, 1\n",
        "# f는 window size, s는 strides size\n",
        "\n",
        "x = tf.random.normal(shape=(1,L,1)) # 1D로 할때 input은 3차원이여야 함\n",
        "pool_max = MaxPooling1D(pool_size =f, strides=s)\n",
        "pooled_max = pool_max(x)\n",
        "\n",
        "print(\"x: {}\\n{}\".format(x.shape,x.numpy().flatten()))\n",
        "print(\"pooled_max(Tensorflow): {}\\n{}\".format(pooled_max.shape, pooled_max.numpy().flatten()))\n",
        "# 2개씩 비교해서 큰값 하나를 찾아내기 때문에 한개가 줄어서 shape이 1 9 1 이다.\n",
        "\n",
        "x=x.numpy().flatten()\n",
        "pooled_max_man = np.zeros((L-f+1,))\n",
        "\n",
        "for i in range(L-f+1):\n",
        "  window = x[i:i+f]\n",
        "  pooled_max_man[i] = np.max(window)\n",
        "\n",
        "print(\"pooled_max(Manual): {}\\n{}\".format(pooled_max_man.shape, pooled_max_man))"
      ],
      "metadata": {
        "colab": {
          "base_uri": "https://localhost:8080/"
        },
        "id": "SurSspsX9n7O",
        "outputId": "60602488-8dd9-4ea8-dbeb-6fda62994f0c"
      },
      "execution_count": null,
      "outputs": [
        {
          "output_type": "stream",
          "name": "stdout",
          "text": [
            "x: (1, 10, 1)\n",
            "[-0.17620738  0.12675719 -1.2999866  -0.73467714 -0.9198284  -1.8160582\n",
            " -0.24464527  0.07543262  0.19275297  0.2420415 ]\n",
            "pooled_max(Tensorflow): (1, 9, 1)\n",
            "[ 0.12675719  0.12675719 -0.73467714 -0.73467714 -0.9198284  -0.24464527\n",
            "  0.07543262  0.19275297  0.2420415 ]\n",
            "pooled_max(Manual): (9,)\n",
            "[ 0.12675719  0.12675719 -0.73467714 -0.73467714 -0.91982841 -0.24464527\n",
            "  0.07543262  0.19275297  0.2420415 ]\n"
          ]
        }
      ]
    },
    {
      "cell_type": "markdown",
      "source": [
        "Average Pooling"
      ],
      "metadata": {
        "id": "n0ik9wt09nxM"
      }
    },
    {
      "cell_type": "code",
      "source": [
        "import tensorflow as tf\n",
        "import numpy as np\n",
        "\n",
        "from tensorflow.keras.layers import AveragePooling1D\n",
        "\n",
        "L, f, s = 10 ,2, 1\n",
        "\n",
        "x = tf.random.normal(shape=(1,L,1)) \n",
        "\n",
        "pool_avg = AveragePooling1D(pool_size =f, strides=s)\n",
        "pooled_avg = pool_avg(x)\n",
        "\n",
        "print(\"x: {}\\n{}\".format(x.shape,x.numpy().flatten()))\n",
        "print(\"pooled_avg(Tensorflow): {}\\n{}\".format(pooled_avg.shape, pooled_avg.numpy().flatten()))\n",
        "# 2개씩 평균 하나를 찾아내기 때문에 한개가 줄어서 shape이 1 9 1 이다.\n",
        "\n",
        "x=x.numpy().flatten()\n",
        "pooled_avg_man = np.zeros((L-f+1,))\n",
        "\n",
        "for i in range(L-f+1):\n",
        "  window = x[i:i+f]\n",
        "  pooled_avg_man[i] = np.mean(window)\n",
        "\n",
        "print(\"pooled_avg(Manual): {}\\n{}\".format(pooled_avg_man.shape, pooled_avg_man))"
      ],
      "metadata": {
        "colab": {
          "base_uri": "https://localhost:8080/"
        },
        "id": "ebHUm7zN9oJe",
        "outputId": "520a7126-1765-4cd3-9a15-b63793f2a049"
      },
      "execution_count": null,
      "outputs": [
        {
          "output_type": "stream",
          "name": "stdout",
          "text": [
            "x: (1, 10, 1)\n",
            "[ 0.2555825   1.3942274  -0.34239614 -0.40549678 -0.46960047  0.2587189\n",
            " -0.7332818  -0.09907023  1.7811189  -1.4082471 ]\n",
            "pooled_avg(Tensorflow): (1, 9, 1)\n",
            "[ 0.8249049   0.5259156  -0.37394646 -0.43754864 -0.10544078 -0.23728144\n",
            " -0.41617602  0.84102434  0.18643588]\n",
            "pooled_avg(Manual): (9,)\n",
            "[ 0.82490492  0.52591562 -0.37394646 -0.43754864 -0.10544078 -0.23728144\n",
            " -0.41617602  0.84102434  0.18643588]\n"
          ]
        }
      ]
    },
    {
      "cell_type": "markdown",
      "source": [
        "2D Max Pooling"
      ],
      "metadata": {
        "id": "rQmcfR-i9oEM"
      }
    },
    {
      "cell_type": "code",
      "execution_count": null,
      "metadata": {
        "colab": {
          "base_uri": "https://localhost:8080/"
        },
        "id": "jpo-RrNV9iUr",
        "outputId": "582ed985-3f0a-4a58-8cdf-db42563bb6b6"
      },
      "outputs": [
        {
          "output_type": "stream",
          "name": "stdout",
          "text": [
            "x: (1, 5, 5, 1)\n",
            "[[ 5.8862734e-01 -7.4635220e-01  7.8877211e-02  1.3997572e-02\n",
            "   7.7077752e-01]\n",
            " [-1.0536294e+00 -3.5790107e-04  6.6612542e-02 -1.0488718e+00\n",
            "   1.1738613e+00]\n",
            " [ 1.3768240e+00 -7.5527966e-01 -1.9965957e-01  8.3862227e-01\n",
            "   9.8754764e-01]\n",
            " [ 1.2266681e+00 -8.3136290e-01  2.8281578e-01  8.5184354e-01\n",
            "  -2.2328980e-02]\n",
            " [ 1.0407958e-01  2.0329349e-01  1.2774853e+00 -4.4442707e-01\n",
            "  -1.0037634e+00]]\n",
            "pooled_max(Tensorflow): (1, 4, 4, 1)\n",
            "[[0.58862734 0.07887721 0.07887721 1.1738613 ]\n",
            " [1.376824   0.06661254 0.8386223  1.1738613 ]\n",
            " [1.376824   0.28281578 0.85184354 0.98754764]\n",
            " [1.2266681  1.2774853  1.2774853  0.85184354]]\n",
            "pooled_max(Manual): (4, 4)\n",
            "[[0.58862734 0.07887721 0.07887721 1.17386127]\n",
            " [1.37682402 0.06661254 0.83862227 1.17386127]\n",
            " [1.37682402 0.28281578 0.85184354 0.98754764]\n",
            " [1.22666812 1.27748525 1.27748525 0.85184354]]\n"
          ]
        }
      ],
      "source": [
        "import tensorflow as tf\n",
        "import numpy as np\n",
        "\n",
        "from tensorflow.keras.layers import MaxPooling2D\n",
        "\n",
        "N, n_H,n_W,n_C = 1,5,5,1\n",
        "f, s = 2, 1\n",
        "\n",
        "x = tf.random.normal(shape=(N, n_H,n_W,n_C)) # 2D일때는 input이 4차원\n",
        "pool_max = MaxPooling2D(pool_size =f, strides=s)\n",
        "pooled_max = pool_max(x)\n",
        "\n",
        "print(\"x: {}\\n{}\".format(x.shape,x.numpy().squeeze()))\n",
        "print(\"pooled_max(Tensorflow): {}\\n{}\".format(pooled_max.shape, pooled_max.numpy().squeeze()))\n",
        "\n",
        "\n",
        "x=x.numpy().squeeze()\n",
        "pooled_max_man = np.zeros(shape=(n_H-f+1,n_W-f+1))\n",
        "\n",
        "for i in range(n_H-f+1):\n",
        "  for j in range(n_W-f+1):\n",
        "    window = x[i:i+f,j:j+f]\n",
        "    pooled_max_man[i,j] = np.max(window)\n",
        "\n",
        "print(\"pooled_max(Manual): {}\\n{}\".format(pooled_max_man.shape, pooled_max_man))"
      ]
    },
    {
      "cell_type": "markdown",
      "source": [
        "2D Average Pooling"
      ],
      "metadata": {
        "id": "hKk8MOiZ9qNh"
      }
    },
    {
      "cell_type": "code",
      "source": [
        "import tensorflow as tf\n",
        "import numpy as np\n",
        "\n",
        "from tensorflow.keras.layers import AveragePooling2D\n",
        "\n",
        "N, n_H,n_W,n_C = 1,5,5,1\n",
        "f, s = 2, 1\n",
        "\n",
        "x = tf.random.normal(shape=(N, n_H,n_W,n_C)) # 2D일때는 input이 4차원\n",
        "pool_avg = AveragePooling2D(pool_size =f, strides=s)\n",
        "pooled_avg = pool_avg(x)\n",
        "\n",
        "print(\"x: {}\\n{}\".format(x.shape,x.numpy().squeeze()))\n",
        "print(\"pooled_avg(Tensorflow): {}\\n{}\".format(pooled_avg.shape, pooled_avg.numpy().squeeze()))\n",
        "\n",
        "\n",
        "x=x.numpy().squeeze()\n",
        "pooled_avg_man = np.zeros(shape=(n_H-f+1,n_W-f+1))\n",
        "\n",
        "for i in range(n_H-f+1):\n",
        "  for j in range(n_W-f+1):\n",
        "    window = x[i:i+f,j:j+f]\n",
        "    pooled_avg_man[i,j] = np.mean(window)\n",
        "\n",
        "print(\"pooled_avg(Manual): {}\\n{}\".format(pooled_avg_man.shape, pooled_avg_man))"
      ],
      "metadata": {
        "colab": {
          "base_uri": "https://localhost:8080/"
        },
        "id": "9_iVp7ZJ9qUh",
        "outputId": "c833436f-f8cb-4e52-ac30-48192bdc41f3"
      },
      "execution_count": null,
      "outputs": [
        {
          "output_type": "stream",
          "name": "stdout",
          "text": [
            "x: (1, 5, 5, 1)\n",
            "[[ 0.4254537   1.155671    0.4094301  -1.4285312  -1.8114228 ]\n",
            " [ 0.8430666  -0.2734419   0.2792527   0.19490843 -0.757583  ]\n",
            " [-0.44326952 -1.7033995   2.4159648  -0.06786858  2.6769369 ]\n",
            " [ 0.9993629   1.6168176   0.5041736  -0.03414378 -0.9618089 ]\n",
            " [ 0.78346956 -1.2911806  -0.07047436 -0.00887124  0.8372969 ]]\n",
            "pooled_avg(Tensorflow): (1, 4, 4, 1)\n",
            "[[ 0.5376873   0.39272797 -0.136235   -0.9506571 ]\n",
            " [-0.3942611   0.17959404  0.7055644   0.5115984 ]\n",
            " [ 0.11737785  0.7083891   0.70453155  0.40327895]\n",
            " [ 0.5271174   0.18983406  0.09767105 -0.04188175]]\n",
            "pooled_avg(Manual): (4, 4)\n",
            "[[ 0.5376873   0.39272797 -0.136235   -0.95065713]\n",
            " [-0.39426109  0.17959404  0.70556438  0.51159841]\n",
            " [ 0.11737785  0.7083891   0.70453155  0.40327895]\n",
            " [ 0.52711737  0.18983406  0.09767105 -0.04188175]]\n"
          ]
        }
      ]
    }
  ]
}