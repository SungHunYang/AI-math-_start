{
  "nbformat": 4,
  "nbformat_minor": 0,
  "metadata": {
    "colab": {
      "name": "11. Conv Layer with Filters.ipynb",
      "provenance": [],
      "collapsed_sections": [],
      "authorship_tag": "ABX9TyMBGqcUyLl3shEht9Oi0ugn"
    },
    "kernelspec": {
      "name": "python3",
      "display_name": "Python 3"
    },
    "language_info": {
      "name": "python"
    }
  },
  "cells": [
    {
      "cell_type": "markdown",
      "source": [
        "Shapes with Filters"
      ],
      "metadata": {
        "id": "iJ3wZexVK8IB"
      }
    },
    {
      "cell_type": "code",
      "execution_count": 3,
      "metadata": {
        "colab": {
          "base_uri": "https://localhost:8080/"
        },
        "id": "cO15DwKTK0ly",
        "outputId": "924b80b1-d461-4caf-fb26-254ff7f6247e"
      },
      "outputs": [
        {
          "output_type": "stream",
          "name": "stdout",
          "text": [
            "Input Images: (1, 28, 28, 3)\n",
            "W/B: (3, 3, 3, 5) / (5,)\n",
            "Output Images: (1, 26, 26, 5)\n"
          ]
        }
      ],
      "source": [
        "import tensorflow as tf\n",
        "from tensorflow.keras.layers import Conv2D\n",
        "\n",
        "N,n_H,n_W,n_C = 32,28,28,3\n",
        "n_filter = 5\n",
        "k_size = 3\n",
        "\n",
        "images = tf.random.uniform(shape=(N,n_H,n_W,n_C),minval=0, maxval=1)\n",
        "\n",
        "conv = Conv2D(filters = n_filter, kernel_size = k_size)\n",
        "\n",
        "Y = conv(images)\n",
        "\n",
        "W,B = conv.get_weights()\n",
        "\n",
        "print(\"Input Images: {}\".format(images.shape))\n",
        "print(\"W/B: {} / {}\".format(W.shape,B.shape))\n",
        "print(\"Output Images: {}\".format(Y.shape))"
      ]
    },
    {
      "cell_type": "markdown",
      "source": [
        "Computation with Filters"
      ],
      "metadata": {
        "id": "cQAG1-enK6P4"
      }
    },
    {
      "cell_type": "code",
      "source": [
        "import numpy as np\n",
        "import tensorflow as tf\n",
        "from tensorflow.keras.layers import Conv2D\n",
        "\n",
        "N,n_H,n_W,n_C = 1,5,5,3\n",
        "n_filter = 3\n",
        "k_size = 4\n",
        "\n",
        "# Forward Propagation(Tensorflow)\n",
        "images = tf.random.uniform(shape=(N,n_H,n_W,n_C),minval=0, maxval=1)\n",
        "\n",
        "conv = Conv2D(filters = n_filter, kernel_size = k_size)\n",
        "\n",
        "Y = conv(images)\n",
        "print(\"Y(Tensorflow) : \\n\",Y.numpy()) # 1 2 2 3 shape이면 2,3 shape 2개가 1장있는 것\n",
        "# tensor를 볼 줄 아는 능력이 매우 중요하다.\n",
        "\n",
        "print(Y.numpy().squeeze().swapaxes(0,-1).shape) # 인덱스에서 -1은 제일 끝을 뜻하니까\n",
        "# 제일 마지막 shape과 제일 앞 shape을 바꿔라 라는 뜻이 된다.\n",
        "Y = np.transpose(Y.numpy().squeeze(), (2,0,1))\n",
        "print(\"Y(Tensorflow) : \\n\",Y)\n",
        "\n",
        "W,B = conv.get_weights()\n",
        "\n",
        "# Forward Propagation(Manual)\n",
        "images = images.numpy().squeeze()\n",
        "# print(W.shape, B.shape)\n",
        "\n",
        "Y_man = np.zeros(shape=(n_H-k_size +1, n_W-k_size+1, n_filter))\n",
        "\n",
        "for c in range(n_filter):\n",
        "  c_w = W[:,:,:,c]\n",
        "  c_b = B[c]\n",
        "\n",
        "  print(c_w.shape, c_b.shape)\n",
        "  for h in range(n_H-k_size +1):\n",
        "    for j in range(n_W-k_size+1):\n",
        "      window = images[h:h+k_size, j:j+k_size,:]\n",
        "      conv = np.sum(window*c_w) +c_b\n",
        "\n",
        "      Y_man[h,j,c] = conv\n",
        "\n",
        "print(\"\\n\",Y_man.shape,\"\\n\")\n",
        "print(\"Y(Manual) : \\n\",np.transpose(Y_man,(2,0,1)))\n",
        "print(\"Y(Manual) : \\n\",Y_man)\n"
      ],
      "metadata": {
        "colab": {
          "base_uri": "https://localhost:8080/"
        },
        "id": "XvkaIe36K6Wm",
        "outputId": "e1c3d390-a8c9-4d02-94ca-8b5fa6495be7"
      },
      "execution_count": 24,
      "outputs": [
        {
          "output_type": "stream",
          "name": "stdout",
          "text": [
            "Y(Tensorflow) : \n",
            " [[[[ 0.6982562  -0.22039403 -0.8788316 ]\n",
            "   [ 1.0264459   0.13683249 -0.39404282]]\n",
            "\n",
            "  [[ 1.2092285  -0.33673382 -0.46772408]\n",
            "   [ 0.92333704  0.22510928 -0.14029597]]]]\n",
            "(3, 2, 2)\n",
            "Y(Tensorflow) : \n",
            " [[[ 0.6982562   1.0264459 ]\n",
            "  [ 1.2092285   0.92333704]]\n",
            "\n",
            " [[-0.22039403  0.13683249]\n",
            "  [-0.33673382  0.22510928]]\n",
            "\n",
            " [[-0.8788316  -0.39404282]\n",
            "  [-0.46772408 -0.14029597]]]\n",
            "(4, 4, 3) ()\n",
            "(4, 4, 3) ()\n",
            "(4, 4, 3) ()\n",
            "\n",
            " (2, 2, 3) \n",
            "\n",
            "Y(Manual) : \n",
            " [[[ 0.69825625  1.0264461 ]\n",
            "  [ 1.20922828  0.92333704]]\n",
            "\n",
            " [[-0.22039399  0.13683243]\n",
            "  [-0.33673376  0.22510928]]\n",
            "\n",
            " [[-0.87883168 -0.39404294]\n",
            "  [-0.46772406 -0.14029604]]]\n",
            "Y(Manual) : \n",
            " [[[ 0.69825625 -0.22039399 -0.87883168]\n",
            "  [ 1.0264461   0.13683243 -0.39404294]]\n",
            "\n",
            " [[ 1.20922828 -0.33673376 -0.46772406]\n",
            "  [ 0.92333704  0.22510928 -0.14029604]]]\n"
          ]
        }
      ]
    },
    {
      "cell_type": "code",
      "source": [
        "import numpy as np\n",
        "\n",
        "images = np.random.randint(low=0, high=10, size=(2,3,4))\n",
        "\n",
        "print(images,\"\\n\\n\")\n",
        "for c in range(4):\n",
        "  print(images[:,:,c],\"\\n\") # 이게 실제로 우리가 생각하는 image tensor\n",
        "\n",
        "images = np.transpose(images,(2,0,1)) \n",
        "# 여기서 2 0 1 은 처음 images shape을 봤을때 size =(2,3,4)이다.\n",
        "# 2는 1차원 3은 2차원 4는 3차원을 뜻하니까 각각에서 -1을 한 2 0 1 을 사용한다\n",
        "# 즉 2 0 1 은 3차원 부분을 맨 앞에, 1차원을 가운데, 2차원을 맨 뒤에 shape으로 바꿔라 라는 뜻이다\n",
        "# 이렇게 바꾸게 되면 위에서 볼 수있듯이 우리가 보기에 좀더 편한 tensor 모습이 된다.\n",
        "\n",
        "print(images.shape,\"\\n\") # shape이 4 2 3으로 바뀐것을 볼 수 있다.\n",
        "\n",
        "for c in range(4):\n",
        "  print(images[c,:,:],\"\\n\")"
      ],
      "metadata": {
        "colab": {
          "base_uri": "https://localhost:8080/"
        },
        "id": "ePLZkgB9Ogyy",
        "outputId": "78058049-757b-4091-d90b-ae9d9817644e"
      },
      "execution_count": 15,
      "outputs": [
        {
          "output_type": "stream",
          "name": "stdout",
          "text": [
            "[[[3 9 1 4]\n",
            "  [5 7 7 5]\n",
            "  [3 3 7 1]]\n",
            "\n",
            " [[5 3 2 5]\n",
            "  [7 5 2 8]\n",
            "  [8 7 8 4]]] \n",
            "\n",
            "\n",
            "[[3 5 3]\n",
            " [5 7 8]] \n",
            "\n",
            "[[9 7 3]\n",
            " [3 5 7]] \n",
            "\n",
            "[[1 7 7]\n",
            " [2 2 8]] \n",
            "\n",
            "[[4 5 1]\n",
            " [5 8 4]] \n",
            "\n",
            "(4, 2, 3) \n",
            "\n",
            "[[3 5 3]\n",
            " [5 7 8]] \n",
            "\n",
            "[[9 7 3]\n",
            " [3 5 7]] \n",
            "\n",
            "[[1 7 7]\n",
            " [2 2 8]] \n",
            "\n",
            "[[4 5 1]\n",
            " [5 8 4]] \n",
            "\n"
          ]
        }
      ]
    },
    {
      "cell_type": "markdown",
      "source": [
        "Conv Layers with Activation Function"
      ],
      "metadata": {
        "id": "rOr7q5X8K6a8"
      }
    },
    {
      "cell_type": "code",
      "source": [
        "import numpy as np\n",
        "import tensorflow as tf\n",
        "from tensorflow.keras.layers import Conv2D\n",
        "\n",
        "N,n_H,n_W,n_C = 1,5,5,3\n",
        "n_filter = 3\n",
        "k_size = 4\n",
        "\n",
        "# Forward Propagation(Tensorflow)\n",
        "images = tf.random.uniform(shape=(N,n_H,n_W,n_C),minval=0, maxval=1)\n",
        "\n",
        "conv = Conv2D(filters = n_filter, kernel_size = k_size,activation ='sigmoid')\n",
        "\n",
        "Y = conv(images)\n",
        "print(\"Y(Tensorflow) : \\n\",Y.numpy())\n",
        "\n",
        "#print(Y.numpy().squeeze().swapaxes(0,-1).shape)\n",
        "Y = np.transpose(Y.numpy().squeeze(), (2,0,1))\n",
        "print(\"Y(Tensorflow) : \\n\",Y)\n",
        "\n",
        "W,B = conv.get_weights()\n",
        "\n",
        "# Forward Propagation(Manual)\n",
        "images = images.numpy().squeeze()\n",
        "\n",
        "\n",
        "Y_man = np.zeros(shape=(n_H-k_size +1, n_W-k_size+1, n_filter))\n",
        "\n",
        "for c in range(n_filter):\n",
        "  c_w = W[:,:,:,c]\n",
        "  c_b = B[c]\n",
        "\n",
        "  print(c_w.shape, c_b.shape)\n",
        "  for h in range(n_H-k_size +1):\n",
        "    for j in range(n_W-k_size+1):\n",
        "      window = images[h:h+k_size, j:j+k_size,:]\n",
        "      conv = np.sum(window*c_w) +c_b\n",
        "      conv = 1/(1+np.exp(-conv))\n",
        "      Y_man[h,j,c] = conv\n",
        "\n",
        "print(\"Y(Manual) : \\n\",np.transpose(Y_man,(2,0,1)))\n",
        "print(\"Y(Manual) : \\n\",Y_man)\n"
      ],
      "metadata": {
        "colab": {
          "base_uri": "https://localhost:8080/"
        },
        "id": "Cd5EyJp-K6gQ",
        "outputId": "7b1453f1-1082-459e-933f-77bdd5661b2b"
      },
      "execution_count": 26,
      "outputs": [
        {
          "output_type": "stream",
          "name": "stdout",
          "text": [
            "Y(Tensorflow) : \n",
            " [[[[0.55420196 0.45735276 0.45510685]\n",
            "   [0.3865586  0.45245    0.4373793 ]]\n",
            "\n",
            "  [[0.5138548  0.46668285 0.46203744]\n",
            "   [0.49782816 0.57451755 0.43860427]]]]\n",
            "Y(Tensorflow) : \n",
            " [[[0.55420196 0.3865586 ]\n",
            "  [0.5138548  0.49782816]]\n",
            "\n",
            " [[0.45735276 0.45245   ]\n",
            "  [0.46668285 0.57451755]]\n",
            "\n",
            " [[0.45510685 0.4373793 ]\n",
            "  [0.46203744 0.43860427]]]\n",
            "(4, 4, 3) ()\n",
            "(4, 4, 3) ()\n",
            "(4, 4, 3) ()\n",
            "Y(Manual) : \n",
            " [[[0.55420195 0.38655856]\n",
            "  [0.51385476 0.49782818]]\n",
            "\n",
            " [[0.45735276 0.45245   ]\n",
            "  [0.46668286 0.57451759]]\n",
            "\n",
            " [[0.45510686 0.43737931]\n",
            "  [0.46203744 0.43860427]]]\n",
            "Y(Manual) : \n",
            " [[[0.55420195 0.45735276 0.45510686]\n",
            "  [0.38655856 0.45245    0.43737931]]\n",
            "\n",
            " [[0.51385476 0.46668286 0.46203744]\n",
            "  [0.49782818 0.57451759 0.43860427]]]\n"
          ]
        }
      ]
    }
  ]
}