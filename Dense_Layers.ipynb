{
  "nbformat": 4,
  "nbformat_minor": 0,
  "metadata": {
    "colab": {
      "name": "Dense Layers.ipynb",
      "provenance": [],
      "collapsed_sections": [],
      "authorship_tag": "ABX9TyPB8BGcIwAkAc/1gnBKZWGC"
    },
    "kernelspec": {
      "name": "python3",
      "display_name": "Python 3"
    },
    "language_info": {
      "name": "python"
    }
  },
  "cells": [
    {
      "cell_type": "markdown",
      "source": [
        "Shapes of Dense Layers"
      ],
      "metadata": {
        "id": "kFkzOv1Hclm9"
      }
    },
    {
      "cell_type": "code",
      "execution_count": 6,
      "metadata": {
        "colab": {
          "base_uri": "https://localhost:8080/"
        },
        "id": "P1Dq41mmcjHM",
        "outputId": "f26ce42e-9fc7-4c5d-fdde-1c8f0f6274ea"
      },
      "outputs": [
        {
          "output_type": "stream",
          "name": "stdout",
          "text": [
            "======= INPUT/ WEIGHT/ BIAS =======\n",
            "X :  (1, 10)\n",
            "W :  (10, 3)\n",
            "B :  (3,)\n",
            "Y :  (1, 3)\n",
            "[[ 0.24157119  0.636752   -0.03452337]\n",
            " [ 0.31373703  0.20599067  0.17645478]\n",
            " [-0.63622653 -0.37487397  0.2721359 ]\n",
            " [-0.14584243  0.0791952  -0.6337132 ]\n",
            " [-0.28767973 -0.42576623 -0.6431734 ]\n",
            " [ 0.52565753 -0.45815462  0.6154754 ]\n",
            " [ 0.6759063   0.52188337  0.46381557]\n",
            " [-0.19645739 -0.2774129   0.11529922]\n",
            " [-0.43560576  0.18241328  0.5904374 ]\n",
            " [-0.02684194  0.24793047  0.05805814]]\n"
          ]
        }
      ],
      "source": [
        "import tensorflow as tf\n",
        "from tensorflow.keras.layers import Dense\n",
        "\n",
        "N, n_feature = 1,10 # N은 데이터 사이즈 n_feature는 한개의 input 데이터 사이즈\n",
        "\n",
        "X = tf.random.normal(shape =(N,n_feature))\n",
        "\n",
        "n_neuron = 3\n",
        "dense = Dense(units = n_neuron , activation = 'sigmoid') \n",
        "'''\n",
        "이게 하나의 layer를 뜻한다\n",
        "그리고 여기서 units이 바로 뉴런의 개수를 말한다.\n",
        "'''\n",
        "\n",
        "Y= dense(X) # 3개의 뉴런을 가진 layer에 input을 넣은 것\n",
        "\n",
        "W, B = dense.get_weights()\n",
        "\n",
        "print(\"======= INPUT/ WEIGHT/ BIAS =======\")\n",
        "print(\"X : \",X.shape) #(1,10)\n",
        "print(\"W : \",W.shape) #(10,3)\n",
        "print(\"B : \",B.shape) #(3.)\n",
        "print(\"Y : \",Y.shape) #(1,3)\n",
        "print(W)"
      ]
    },
    {
      "cell_type": "markdown",
      "source": [
        "Output Calculations"
      ],
      "metadata": {
        "id": "NhPO835FcpWO"
      }
    },
    {
      "cell_type": "code",
      "source": [
        "import numpy as np\n",
        "import tensorflow as tf\n",
        "from tensorflow.math import exp # e \n",
        "from tensorflow.linalg import matmul # 행렬 곱\n",
        "from tensorflow.keras.layers import Dense\n",
        "\n",
        "N, n_feature = 4,10 # N은 데이터 사이즈 n_feature는 한개의 input 데이터 사이즈\n",
        "\n",
        "X = tf.random.normal(shape =(N,n_feature))\n",
        "\n",
        "n_neuron = 3\n",
        "dense = Dense(units = n_neuron , activation = 'sigmoid') \n",
        "'''\n",
        "이게 하나의 layer를 뜻한다\n",
        "그리고 여기서 units이 바로 뉴런의 개수를 말한다.\n",
        "'''\n",
        "\n",
        "Y_tf= dense(X) # 3개의 뉴런을 가진 layer에 input을 넣은 것\n",
        "\n",
        "W, B = dense.get_weights() \n",
        "'''\n",
        "궁금증. dense에서 W,B는 랜덤으로 정해지고 있는 상태인것인가?\n",
        "'''\n",
        "\n",
        "print(\"Y(Tensorflow) : \\n\",Y_tf.numpy())\n",
        "\n",
        "# calculate with matrix multiplication\n",
        "\n",
        "z = matmul(X,W) +B\n",
        "Y_man_matmul = 1/(1+exp(-z))\n",
        "print(\"Y_man_matmul : \\n\",Y_man_matmul.numpy())\n",
        "\n",
        "# calculate with dot products\n",
        "\n",
        "Y_man_vec = np.zeros(shape =(N,n_neuron))\n",
        "for x_idx in range(N):\n",
        "  x = X[x_idx] # 이렇게 하면 넘파이에서 한 행씩 뽑아 옴\n",
        "\n",
        "  for nu_idx in range(n_neuron):\n",
        "    w,b = W[:,nu_idx], B[nu_idx]\n",
        "\n",
        "    z = tf.reduce_sum(x*w) + b\n",
        "    a= 1/(1+np.exp(-z))\n",
        "    Y_man_vec[x_idx, nu_idx] = a\n",
        "\n",
        "print(\"Y(with dot product) : \\n\",Y_man_vec)\n"
      ],
      "metadata": {
        "colab": {
          "base_uri": "https://localhost:8080/"
        },
        "id": "hrDo6iC4cpl9",
        "outputId": "924cfeaa-8be9-4269-fc6f-bbd30697df3b"
      },
      "execution_count": 15,
      "outputs": [
        {
          "output_type": "stream",
          "name": "stdout",
          "text": [
            "Y(Tensorflow) : \n",
            " [[0.4603909  0.9201728  0.30001208]\n",
            " [0.6061809  0.90450925 0.5575744 ]\n",
            " [0.6542806  0.75549036 0.1996417 ]\n",
            " [0.48402804 0.48103762 0.5548951 ]]\n",
            "Y_man_matmul : \n",
            " [[0.46039093 0.9201728  0.30001208]\n",
            " [0.6061809  0.90450925 0.5575744 ]\n",
            " [0.6542806  0.7554903  0.1996417 ]\n",
            " [0.484028   0.48103768 0.5548951 ]]\n",
            "Y(with dot product) : \n",
            " [[0.46039089 0.92017283 0.30001209]\n",
            " [0.6061809  0.90450923 0.55757439]\n",
            " [0.65428062 0.75549034 0.1996417 ]\n",
            " [0.48402806 0.48103764 0.55489511]]\n"
          ]
        }
      ]
    },
    {
      "cell_type": "markdown",
      "source": [
        "Shapes of Cacaded Dense Layers"
      ],
      "metadata": {
        "id": "DNQdfSiAcp9C"
      }
    },
    {
      "cell_type": "code",
      "source": [
        "import tensorflow as tf\n",
        "from tensorflow.keras.layers import Dense\n",
        "\n",
        "N, n_feature = 4, 10\n",
        "X = tf.random.normal(shape =(N,n_feature))\n",
        "\n",
        "n_neurons = [3,5] # 이런 식으로 되면 dense layer를 만들 수 있다.\n",
        "# n_neurons[0] = 3 이고, n_neurons[1] = 5\n",
        "\n",
        "dense1 = Dense(units = n_neurons[0], activation = 'sigmoid') # 3개의 뉴런 \n",
        "dense2 = Dense(units = n_neurons[1], activation = 'sigmoid') # 5개의 뉴런\n",
        "\n",
        "# forward propagation\n",
        "A1 = dense1(X)\n",
        "Y = dense2(A1) # 이런 식으로 dense layer는 이전 layer의 결과 값이 input으로 들어간다.\n",
        "\n",
        "print(\"X : {}\\n\".format(X.shape)) # 4,10\n",
        "print(\"A1 : {}\\n\".format(A1.shape)) # 4,3\n",
        "print(\"Y : {}\\n\".format(Y.shape)) #4,5\n",
        "\n",
        "# get weight/bias\n",
        "\n",
        "W1, B1 = dense1.get_weights()\n",
        "W2, B2 = dense2.get_weights()\n",
        "print(\"W1 : \",W1.shape)\n",
        "print(\"B1 : \",B1.shape)\n",
        "print(\"W2 : \",W2.shape)\n",
        "print(\"B2 : \",B2.shape)"
      ],
      "metadata": {
        "colab": {
          "base_uri": "https://localhost:8080/"
        },
        "id": "tCa9SDpAcqBY",
        "outputId": "4f9fff45-35fb-4af1-838d-bf21281f78ab"
      },
      "execution_count": 22,
      "outputs": [
        {
          "output_type": "stream",
          "name": "stdout",
          "text": [
            "X : (4, 10)\n",
            "\n",
            "A1 : (4, 3)\n",
            "\n",
            "Y : (4, 5)\n",
            "\n",
            "W1 :  (10, 3)\n",
            "B1 :  (3,)\n",
            "W2 :  (3, 5)\n",
            "B2 :  (5,)\n"
          ]
        }
      ]
    },
    {
      "cell_type": "markdown",
      "source": [
        "Dense Layers with Python List"
      ],
      "metadata": {
        "id": "0fm9YzKgcqGs"
      }
    },
    {
      "cell_type": "code",
      "source": [
        "import tensorflow as tf\n",
        "from tensorflow.keras.layers import Dense\n",
        "\n",
        "N, n_feature = 4, 10\n",
        "X = tf.random.normal(shape =(N,n_feature))\n",
        "\n",
        "n_neurons = [10,20,30,40,50,60,70,80,90,100]\n",
        "\n",
        "dense_layers = list() # 리스트 형식으로 여러개의 layer를 만드는 것\n",
        "\n",
        "for n_neuron in n_neurons: # 여러개의 layer 생성\n",
        "  dense = Dense(units = n_neuron, activation = 'relu')\n",
        "  dense_layers.append(dense)\n",
        "\n",
        "print(\"Input: \",X.shape)\n",
        "for dense_idx, dense in enumerate(dense_layers):\n",
        "  X = dense(X) \n",
        "  '''\n",
        "  여기 코드는 이전의 X값 input이 dense에 들어가서 X 라는 또 다른 output이 되고\n",
        "  그 output이 input으로 들어가는 형태이다. 즉, dense_layer 방식과 같다.\n",
        "  '''\n",
        "  print(\"After dense layer\",dense_idx) # 열거형이기 때문에 idx 존재\n",
        "  print(X.shape,'\\n')\n",
        "\n",
        "Y = x # output Y를 구함"
      ],
      "metadata": {
        "colab": {
          "base_uri": "https://localhost:8080/"
        },
        "id": "q9-sqXhwcqNh",
        "outputId": "151da521-d642-48a2-f952-9f926e72cad8"
      },
      "execution_count": 25,
      "outputs": [
        {
          "output_type": "stream",
          "name": "stdout",
          "text": [
            "Input:  (4, 10)\n",
            "After dense layer 0\n",
            "(4, 10) \n",
            "\n",
            "After dense layer 1\n",
            "(4, 20) \n",
            "\n",
            "After dense layer 2\n",
            "(4, 30) \n",
            "\n",
            "After dense layer 3\n",
            "(4, 40) \n",
            "\n",
            "After dense layer 4\n",
            "(4, 50) \n",
            "\n",
            "After dense layer 5\n",
            "(4, 60) \n",
            "\n",
            "After dense layer 6\n",
            "(4, 70) \n",
            "\n",
            "After dense layer 7\n",
            "(4, 80) \n",
            "\n",
            "After dense layer 8\n",
            "(4, 90) \n",
            "\n",
            "After dense layer 9\n",
            "(4, 100) \n",
            "\n"
          ]
        }
      ]
    },
    {
      "cell_type": "markdown",
      "source": [
        "Output Calculation"
      ],
      "metadata": {
        "id": "8WVHlflkllWq"
      }
    },
    {
      "cell_type": "code",
      "source": [
        "import tensorflow as tf\n",
        "from tensorflow.math import exp \n",
        "from tensorflow.linalg import matmul\n",
        "from tensorflow.keras.layers import Dense\n",
        "\n",
        "N, n_feature = 4, 10\n",
        "X = tf.random.normal(shape =(N,n_feature))\n",
        "X_cp = tf.identity(x) \n",
        "# 이걸 만일 X_cp = X 라고 하면 주소값을 복사하기 때문에 같이 바뀌어서 의미 X\n",
        "# 따라서 identity를 통해서 값만 복사\n",
        "\n",
        "n_neurons = [3,4,5]\n",
        "\n",
        "dense_layers = list() # 리스트 형식으로 여러개의 layer를 만드는 것\n",
        "\n",
        "# forward propagation(Tensorflow)\n",
        "for n_neuron in n_neurons: # 여러개의 layer 생성\n",
        "  dense = Dense(units = n_neuron, activation = 'sigmoid')\n",
        "  dense_layers.append(dense)\n",
        "\n",
        "W,B = list(),list()\n",
        "for dense_idx, dense in enumerate(dense_layers):\n",
        "  X = dense(X) \n",
        "  w,b = dense.get_weights()\n",
        "\n",
        "  W.append(w)\n",
        "  B.append(b)\n",
        "\n",
        "print(\"Y(tensorflow) : \\n\",Y.numpy())\n",
        "\n",
        "'''\n",
        "# forward propagation(Manual)\n",
        "\n",
        "for layer_idx in range(len(n_neurons)):\n",
        "  w,b = W[layer_idx], B[layer_idx]\n",
        "\n",
        "  X_cp = matmul(X_cp, w) + b\n",
        "  X_cp = 1/(1+exp(-X_cp))\n",
        "\n",
        "print(\"Y(Manual) : \\n\",X_cp.numpy())\n",
        "'''"
      ],
      "metadata": {
        "colab": {
          "base_uri": "https://localhost:8080/",
          "height": 486
        },
        "id": "nUkR1jWrlltl",
        "outputId": "25d62be0-ca45-4ef6-f803-e0878f3c1ca4"
      },
      "execution_count": 31,
      "outputs": [
        {
          "output_type": "stream",
          "name": "stdout",
          "text": [
            "Y(tensorflow) : \n",
            " [[0.43465936 0.61384875 0.4862559  0.53122884 0.64410543]\n",
            " [0.48671758 0.5490625  0.51265454 0.56545085 0.5121069 ]\n",
            " [0.4735602  0.619158   0.6073555  0.5126441  0.40985644]\n",
            " [0.48510665 0.5428168  0.50586486 0.5477917  0.52346045]]\n"
          ]
        },
        {
          "output_type": "error",
          "ename": "InvalidArgumentError",
          "evalue": "ignored",
          "traceback": [
            "\u001b[0;31m---------------------------------------------------------------------------\u001b[0m",
            "\u001b[0;31mInvalidArgumentError\u001b[0m                      Traceback (most recent call last)",
            "\u001b[0;32m<ipython-input-31-2a60a603678f>\u001b[0m in \u001b[0;36m<module>\u001b[0;34m()\u001b[0m\n\u001b[1;32m     33\u001b[0m \u001b[0;32mfor\u001b[0m \u001b[0mlayer_idx\u001b[0m \u001b[0;32min\u001b[0m \u001b[0mrange\u001b[0m\u001b[0;34m(\u001b[0m\u001b[0mlen\u001b[0m\u001b[0;34m(\u001b[0m\u001b[0mn_neurons\u001b[0m\u001b[0;34m)\u001b[0m\u001b[0;34m)\u001b[0m\u001b[0;34m:\u001b[0m\u001b[0;34m\u001b[0m\u001b[0;34m\u001b[0m\u001b[0m\n\u001b[1;32m     34\u001b[0m   \u001b[0mw\u001b[0m\u001b[0;34m,\u001b[0m\u001b[0mb\u001b[0m \u001b[0;34m=\u001b[0m \u001b[0mW\u001b[0m\u001b[0;34m[\u001b[0m\u001b[0mlayer_idx\u001b[0m\u001b[0;34m]\u001b[0m\u001b[0;34m,\u001b[0m \u001b[0mB\u001b[0m\u001b[0;34m[\u001b[0m\u001b[0mlayer_idx\u001b[0m\u001b[0;34m]\u001b[0m\u001b[0;34m\u001b[0m\u001b[0;34m\u001b[0m\u001b[0m\n\u001b[0;32m---> 35\u001b[0;31m   \u001b[0mX_cp\u001b[0m \u001b[0;34m=\u001b[0m \u001b[0mmatmul\u001b[0m\u001b[0;34m(\u001b[0m\u001b[0mX_cp\u001b[0m\u001b[0;34m,\u001b[0m \u001b[0mw\u001b[0m\u001b[0;34m)\u001b[0m \u001b[0;34m+\u001b[0m \u001b[0mb\u001b[0m\u001b[0;34m\u001b[0m\u001b[0;34m\u001b[0m\u001b[0m\n\u001b[0m\u001b[1;32m     36\u001b[0m   \u001b[0mX_cp\u001b[0m \u001b[0;34m=\u001b[0m \u001b[0;36m1\u001b[0m\u001b[0;34m/\u001b[0m\u001b[0;34m(\u001b[0m\u001b[0;36m1\u001b[0m\u001b[0;34m+\u001b[0m\u001b[0mexp\u001b[0m\u001b[0;34m(\u001b[0m\u001b[0;34m-\u001b[0m\u001b[0mX_cp\u001b[0m\u001b[0;34m)\u001b[0m\u001b[0;34m)\u001b[0m\u001b[0;34m\u001b[0m\u001b[0;34m\u001b[0m\u001b[0m\n\u001b[1;32m     37\u001b[0m \u001b[0;34m\u001b[0m\u001b[0m\n",
            "\u001b[0;32m/usr/local/lib/python3.7/dist-packages/tensorflow/python/util/traceback_utils.py\u001b[0m in \u001b[0;36merror_handler\u001b[0;34m(*args, **kwargs)\u001b[0m\n\u001b[1;32m    151\u001b[0m     \u001b[0;32mexcept\u001b[0m \u001b[0mException\u001b[0m \u001b[0;32mas\u001b[0m \u001b[0me\u001b[0m\u001b[0;34m:\u001b[0m\u001b[0;34m\u001b[0m\u001b[0;34m\u001b[0m\u001b[0m\n\u001b[1;32m    152\u001b[0m       \u001b[0mfiltered_tb\u001b[0m \u001b[0;34m=\u001b[0m \u001b[0m_process_traceback_frames\u001b[0m\u001b[0;34m(\u001b[0m\u001b[0me\u001b[0m\u001b[0;34m.\u001b[0m\u001b[0m__traceback__\u001b[0m\u001b[0;34m)\u001b[0m\u001b[0;34m\u001b[0m\u001b[0;34m\u001b[0m\u001b[0m\n\u001b[0;32m--> 153\u001b[0;31m       \u001b[0;32mraise\u001b[0m \u001b[0me\u001b[0m\u001b[0;34m.\u001b[0m\u001b[0mwith_traceback\u001b[0m\u001b[0;34m(\u001b[0m\u001b[0mfiltered_tb\u001b[0m\u001b[0;34m)\u001b[0m \u001b[0;32mfrom\u001b[0m \u001b[0;32mNone\u001b[0m\u001b[0;34m\u001b[0m\u001b[0;34m\u001b[0m\u001b[0m\n\u001b[0m\u001b[1;32m    154\u001b[0m     \u001b[0;32mfinally\u001b[0m\u001b[0;34m:\u001b[0m\u001b[0;34m\u001b[0m\u001b[0;34m\u001b[0m\u001b[0m\n\u001b[1;32m    155\u001b[0m       \u001b[0;32mdel\u001b[0m \u001b[0mfiltered_tb\u001b[0m\u001b[0;34m\u001b[0m\u001b[0;34m\u001b[0m\u001b[0m\n",
            "\u001b[0;32m/usr/local/lib/python3.7/dist-packages/tensorflow/python/framework/ops.py\u001b[0m in \u001b[0;36mraise_from_not_ok_status\u001b[0;34m(e, name)\u001b[0m\n\u001b[1;32m   7105\u001b[0m \u001b[0;32mdef\u001b[0m \u001b[0mraise_from_not_ok_status\u001b[0m\u001b[0;34m(\u001b[0m\u001b[0me\u001b[0m\u001b[0;34m,\u001b[0m \u001b[0mname\u001b[0m\u001b[0;34m)\u001b[0m\u001b[0;34m:\u001b[0m\u001b[0;34m\u001b[0m\u001b[0;34m\u001b[0m\u001b[0m\n\u001b[1;32m   7106\u001b[0m   \u001b[0me\u001b[0m\u001b[0;34m.\u001b[0m\u001b[0mmessage\u001b[0m \u001b[0;34m+=\u001b[0m \u001b[0;34m(\u001b[0m\u001b[0;34m\" name: \"\u001b[0m \u001b[0;34m+\u001b[0m \u001b[0mname\u001b[0m \u001b[0;32mif\u001b[0m \u001b[0mname\u001b[0m \u001b[0;32mis\u001b[0m \u001b[0;32mnot\u001b[0m \u001b[0;32mNone\u001b[0m \u001b[0;32melse\u001b[0m \u001b[0;34m\"\"\u001b[0m\u001b[0;34m)\u001b[0m\u001b[0;34m\u001b[0m\u001b[0;34m\u001b[0m\u001b[0m\n\u001b[0;32m-> 7107\u001b[0;31m   \u001b[0;32mraise\u001b[0m \u001b[0mcore\u001b[0m\u001b[0;34m.\u001b[0m\u001b[0m_status_to_exception\u001b[0m\u001b[0;34m(\u001b[0m\u001b[0me\u001b[0m\u001b[0;34m)\u001b[0m \u001b[0;32mfrom\u001b[0m \u001b[0;32mNone\u001b[0m  \u001b[0;31m# pylint: disable=protected-access\u001b[0m\u001b[0;34m\u001b[0m\u001b[0;34m\u001b[0m\u001b[0m\n\u001b[0m\u001b[1;32m   7108\u001b[0m \u001b[0;34m\u001b[0m\u001b[0m\n\u001b[1;32m   7109\u001b[0m \u001b[0;34m\u001b[0m\u001b[0m\n",
            "\u001b[0;31mInvalidArgumentError\u001b[0m: In[0] and In[1] has different ndims: [10] vs. [10,3] [Op:MatMul]"
          ]
        }
      ]
    },
    {
      "cell_type": "code",
      "source": [
        ""
      ],
      "metadata": {
        "id": "XmfE9O3Zo-rY"
      },
      "execution_count": null,
      "outputs": []
    }
  ]
}