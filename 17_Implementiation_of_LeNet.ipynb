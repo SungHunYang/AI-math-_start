{
  "nbformat": 4,
  "nbformat_minor": 0,
  "metadata": {
    "colab": {
      "name": "17. Implementiation of LeNet.ipynb",
      "provenance": [],
      "collapsed_sections": [],
      "authorship_tag": "ABX9TyNPHSpR3cYGDJZHeeWZub2z"
    },
    "kernelspec": {
      "name": "python3",
      "display_name": "Python 3"
    },
    "language_info": {
      "name": "python"
    }
  },
  "cells": [
    {
      "cell_type": "markdown",
      "source": [
        "LeNet with Model Sub-classing"
      ],
      "metadata": {
        "id": "e53WlzqZqxGT"
      }
    },
    {
      "cell_type": "code",
      "execution_count": 9,
      "metadata": {
        "colab": {
          "base_uri": "https://localhost:8080/"
        },
        "id": "Zo8dOwx1qU4O",
        "outputId": "16e36a69-dca5-4773-e912-6962b1eaeb02"
      },
      "outputs": [
        {
          "output_type": "stream",
          "name": "stdout",
          "text": [
            "input : (32, 28, 28, 1)\n",
            "conv1 : (32, 28, 28, 6)\n",
            "avgPool1 : (32, 14, 14, 6)\n",
            "conv2 : (32, 10, 10, 16)\n",
            "avgPool2 : (32, 5, 5, 16)\n",
            "conv3 : (32, 1, 1, 120)\n",
            "flatten : (32, 120)\n",
            "dense1 : (32, 84)\n",
            "dense2 : (32, 10)\n",
            "predictions : (32, 10)\n"
          ]
        }
      ],
      "source": [
        "import tensorflow as tf\n",
        "\n",
        "from tensorflow.keras.models import Model\n",
        "from tensorflow.keras.models import Sequential\n",
        "\n",
        "from tensorflow.keras.layers import Layer\n",
        "from tensorflow.keras.layers import Conv2D\n",
        "from tensorflow.keras.layers import MaxPooling2D\n",
        "from tensorflow.keras.layers import AvgPool2D\n",
        "from tensorflow.keras.layers import Flatten\n",
        "from tensorflow.keras.layers import Dense\n",
        "\n",
        "class LeNet(Model):\n",
        "  def __init__(self):\n",
        "    super(LeNet,self).__init__()\n",
        "\n",
        "    self.conv1 = Conv2D(filters=6, kernel_size=5, padding='same', strides=1,activation = 'tanh')\n",
        "    self.avgPool1 = AvgPool2D(pool_size =2,strides=2)\n",
        "    self.conv2 = Conv2D(filters=16, kernel_size=5,strides=1,padding='valid', activation = 'tanh')\n",
        "    self.avgPool2 = AvgPool2D(pool_size =2, strides=2)\n",
        "    self.conv3 = Conv2D(filters=120, kernel_size=5,strides=1,padding='valid',activation = 'tanh')\n",
        "    self.flatten = Flatten()\n",
        "\n",
        "    self.dense1= Dense(units=84, activation='tanh')\n",
        "    self.dense2= Dense(units=10, activation='softmax')\n",
        "\n",
        "  def call(self,x):\n",
        "    print(\"input : {}\".format(x.shape))\n",
        "\n",
        "    x = self.conv1(x)\n",
        "    print(\"conv1 : {}\".format(x.shape))\n",
        "\n",
        "    x = self.avgPool1(x)\n",
        "    print(\"avgPool1 : {}\".format(x.shape))\n",
        "\n",
        "    x = self.conv2(x)\n",
        "    print(\"conv2 : {}\".format(x.shape))\n",
        "\n",
        "    x = self.avgPool2(x)\n",
        "    print(\"avgPool2 : {}\".format(x.shape))\n",
        "\n",
        "    x = self.conv3(x)\n",
        "    print(\"conv3 : {}\".format(x.shape))\n",
        "\n",
        "    x = self.flatten(x)\n",
        "    print(\"flatten : {}\".format(x.shape))\n",
        "\n",
        "    x = self.dense1(x)\n",
        "    print(\"dense1 : {}\".format(x.shape))\n",
        "\n",
        "    x = self.dense2(x)\n",
        "    print(\"dense2 : {}\".format(x.shape))\n",
        "\n",
        "    return x\n",
        "\n",
        "x = tf.random.normal(shape=(32,28,28,1))\n",
        "model = LeNet()\n",
        "predictions =model(x)\n",
        "print(\"predictions : {}\".format(predictions.shape))"
      ]
    },
    {
      "cell_type": "markdown",
      "source": [
        "LeNet with Hybrid Method"
      ],
      "metadata": {
        "id": "XkbjybGkqx1j"
      }
    },
    {
      "cell_type": "code",
      "source": [
        "import tensorflow as tf\n",
        "\n",
        "from tensorflow.keras.models import Model\n",
        "from tensorflow.keras.models import Sequential\n",
        "\n",
        "from tensorflow.keras.layers import Layer\n",
        "from tensorflow.keras.layers import Conv2D\n",
        "from tensorflow.keras.layers import MaxPooling2D\n",
        "from tensorflow.keras.layers import AvgPool2D\n",
        "from tensorflow.keras.layers import Flatten\n",
        "from tensorflow.keras.layers import Dense\n",
        "\n",
        "class ConvLayer(Layer):\n",
        "  def __init__(self,filters,padding,pool=True):\n",
        "    \n",
        "    super(ConvLayer,self).__init__()\n",
        "\n",
        "    self.pool = pool\n",
        "\n",
        "    self.conv = Conv2D(filters=filters, kernel_size=5, padding=padding, strides=1,activation = 'tanh')\n",
        "    if self.pool == True:\n",
        "      self.conv_pool = AvgPool2D(pool_size =2,strides=2)\n",
        "\n",
        "  def call(self,x):\n",
        "    x = self.conv(x)\n",
        "    if self.pool == True:\n",
        "      x = self.conv_pool(x)\n",
        "    return x\n",
        "class LeNet(Model):\n",
        "  def __init__(self):\n",
        "    super(LeNet,self).__init__()\n",
        "\n",
        "    \n",
        "    self.conv1 = ConvLayer(6,'same')\n",
        "    self.conv2 = ConvLayer(filters= 16,padding ='valid') # 어떤 값이 들어가는지 가시적으로 보고 싶으면 이렇게 적어 줘도 괜찮음\n",
        "    self.conv3 = ConvLayer(120,'valid',False)\n",
        "\n",
        "    self.flatten = Flatten()\n",
        "\n",
        "    self.dense1= Dense(units=84, activation='tanh')\n",
        "    self.dense2= Dense(units=10, activation='softmax')\n",
        "\n",
        "  def call(self,x):\n",
        "    print(\"input : {}\".format(x.shape))\n",
        "\n",
        "    x = self.conv1(x)\n",
        "    x = self.conv2(x)\n",
        "    x = self.conv3(x)\n",
        "\n",
        "    x = self.flatten(x)\n",
        "\n",
        "    x = self.dense1(x)\n",
        "    print(\"dense1 : {}\".format(x.shape))\n",
        "    x = self.dense2(x)\n",
        "    print(\"dense2 : {}\".format(x.shape))\n",
        "\n",
        "    return x\n",
        "\n",
        "x = tf.random.normal(shape=(32,28,28,1))\n",
        "model = LeNet()\n",
        "predictions =model(x)\n",
        "print(\"predictions : {}\".format(predictions.shape))\n"
      ],
      "metadata": {
        "colab": {
          "base_uri": "https://localhost:8080/"
        },
        "id": "w73Sy4QUqzWm",
        "outputId": "aa708f7e-4b2e-42f4-e534-582637876e2d"
      },
      "execution_count": 11,
      "outputs": [
        {
          "output_type": "stream",
          "name": "stdout",
          "text": [
            "input : (32, 28, 28, 1)\n",
            "dense1 : (32, 84)\n",
            "dense2 : (32, 10)\n",
            "predictions : (32, 10)\n"
          ]
        }
      ]
    },
    {
      "cell_type": "markdown",
      "source": [
        "Forward Propagation of LeNet"
      ],
      "metadata": {
        "id": "pg3UNUt1qzdV"
      }
    },
    {
      "cell_type": "code",
      "source": [
        "import tensorflow as tf\n",
        "import numpy as np\n",
        "\n",
        "from tensorflow.keras.models import Model\n",
        "from tensorflow.keras.models import Sequential\n",
        "\n",
        "from tensorflow.keras.layers import Layer\n",
        "from tensorflow.keras.layers import Conv2D\n",
        "from tensorflow.keras.layers import MaxPooling2D\n",
        "from tensorflow.keras.layers import AvgPool2D\n",
        "from tensorflow.keras.layers import Flatten\n",
        "from tensorflow.keras.layers import Dense\n",
        "\n",
        "from tensorflow.keras.datasets import mnist\n",
        "from tensorflow.keras.losses import SparseCategoricalCrossentropy\n",
        "\n",
        "\n",
        "# ------ LeNet Implementaion ------\n",
        "class ConvLayer(Layer):\n",
        "  def __init__(self,filters,padding,pool=True):\n",
        "    \n",
        "    super(ConvLayer,self).__init__()\n",
        "\n",
        "    self.pool = pool\n",
        "\n",
        "    self.conv = Conv2D(filters=filters, kernel_size=5, padding=padding, strides=1,activation = 'tanh')\n",
        "    if self.pool == True:\n",
        "      self.conv_pool = AvgPool2D(pool_size =2,strides=2)\n",
        "\n",
        "  def call(self,x):\n",
        "    x = self.conv(x)\n",
        "    if self.pool == True:\n",
        "      x = self.conv_pool(x)\n",
        "    return x\n",
        "class LeNet(Model):\n",
        "  def __init__(self):\n",
        "    super(LeNet,self).__init__()\n",
        "\n",
        "    \n",
        "    self.conv1 = ConvLayer(6,'same')\n",
        "    self.conv2 = ConvLayer(filters= 16,padding ='valid') # 어떤 값이 들어가는지 가시적으로 보고 싶으면 이렇게 적어 줘도 괜찮음\n",
        "    self.conv3 = ConvLayer(120,'valid',False)\n",
        "\n",
        "    self.flatten = Flatten()\n",
        "\n",
        "    self.dense1= Dense(units=84, activation='tanh')\n",
        "    self.dense2= Dense(units=10, activation='softmax')\n",
        "\n",
        "  def call(self,x):\n",
        "    print(\"input : {}\".format(x.shape))\n",
        "\n",
        "    x = self.conv1(x)\n",
        "    x = self.conv2(x)\n",
        "    x = self.conv3(x)\n",
        "\n",
        "    x = self.flatten(x)\n",
        "\n",
        "    x = self.dense1(x)\n",
        "    print(\"dense1 : {}\".format(x.shape))\n",
        "    x = self.dense2(x)\n",
        "    print(\"dense2 : {}\".format(x.shape))\n",
        "\n",
        "    return x\n",
        "\n",
        "\n",
        "# ---- Dataset Preparation ----\n",
        "\n",
        "(train_images,train_labels), _ = mnist.load_data()\n",
        "#print(train_images.shape, train_images.dtype) #28 28 짜리가 60000장 있음\n",
        "#print(train_labels.shape, train_labels.dtype)\n",
        "train_images = np.expand_dims(train_images, axis = 3).astype(np.float32) # axis = 3 을 새로 추가\n",
        "train_labels = train_labels.astype(np.int32)\n",
        "print(train_images.shape, train_images.dtype)\n",
        "print(train_labels.shape, train_labels.dtype)\n",
        "\n",
        "train_ds = tf.data.Dataset.from_tensor_slices((train_images,train_labels))\n",
        "train_ds = train_ds.batch(32)\n",
        "\n",
        "\n",
        "# ---- Forward Propagation ----\n",
        "\n",
        "model = LeNet()\n",
        "loss_object = SparseCategoricalCrossentropy()\n",
        "\n",
        "for images, labels in train_ds: # 32 장씩 값을 뽑을 것이다.\n",
        "  #print(images.shape, labels.shape)\n",
        "  predictions = model(images)\n",
        "  loss = loss_object(labels,predictions) # loss function\n",
        "  print(loss)\n",
        "\n",
        "  break # 이거 60000개 여서 너무 많아서 한번만 보려고 break 넣은것"
      ],
      "metadata": {
        "colab": {
          "base_uri": "https://localhost:8080/"
        },
        "id": "dO1Lz5X7qzjJ",
        "outputId": "9cccc49f-2bf4-45e2-c0a3-757a829459ac"
      },
      "execution_count": 18,
      "outputs": [
        {
          "output_type": "stream",
          "name": "stdout",
          "text": [
            "(60000, 28, 28, 1) float32\n",
            "(60000,) int32\n",
            "input : (32, 28, 28, 1)\n",
            "dense1 : (32, 84)\n",
            "dense2 : (32, 10)\n",
            "tf.Tensor(2.4318013, shape=(), dtype=float32)\n"
          ]
        }
      ]
    }
  ]
}