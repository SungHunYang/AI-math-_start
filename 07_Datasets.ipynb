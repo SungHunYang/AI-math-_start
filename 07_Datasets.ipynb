{
  "nbformat": 4,
  "nbformat_minor": 0,
  "metadata": {
    "colab": {
      "name": "07. Datasets.ipynb",
      "provenance": [],
      "collapsed_sections": [],
      "authorship_tag": "ABX9TyMGYxeew9N/ohIl0fkmEK+d"
    },
    "kernelspec": {
      "name": "python3",
      "display_name": "Python 3"
    },
    "language_info": {
      "name": "python"
    }
  },
  "cells": [
    {
      "cell_type": "markdown",
      "source": [
        "Dataset for Regression"
      ],
      "metadata": {
        "id": "7I-lzJfui9oC"
      }
    },
    {
      "cell_type": "code",
      "execution_count": 10,
      "metadata": {
        "colab": {
          "base_uri": "https://localhost:8080/"
        },
        "id": "3_B76_Bni6M1",
        "outputId": "5adba71d-e6df-400b-c7bf-4175446e608c"
      },
      "outputs": [
        {
          "output_type": "stream",
          "name": "stdout",
          "text": [
            "(8, 5) (5,) (1,)\n",
            "tf.Tensor(\n",
            "[[-0.1897946  -0.44287536 -0.1900942  -1.4986309   0.91528285]\n",
            " [-1.4807129  -0.67574215 -0.25615218 -0.23937777 -0.1580744 ]\n",
            " [ 0.38370416 -1.2536215   0.6892194   0.7279857   0.06453407]\n",
            " [-0.23303993 -2.2414753   0.4005565   1.212214   -2.838937  ]\n",
            " [ 0.575572   -0.33829165 -0.7143018  -0.699431    0.94203407]\n",
            " [-0.82686776  0.45421314  0.2893796   0.842434    1.0399338 ]\n",
            " [ 1.1636007   1.1196285   0.8598308   0.32379955 -0.34910887]\n",
            " [-1.2226766  -0.9467371   1.5538166  -0.9031842   0.84802055]], shape=(8, 5), dtype=float32) (8, 5) \n",
            "\n",
            "tf.Tensor(\n",
            "[[ 9.810205   9.114249   9.429717   4.0054765 14.576414 ]\n",
            " [ 8.519287   8.648516   9.231544   9.042489   9.209628 ]\n",
            " [10.383704   7.492757  12.067658  12.9119425 10.32267  ]\n",
            " [ 9.76696    5.5170493 11.20167   14.848856  -4.194685 ]\n",
            " [10.575572   9.323417   7.857095   7.202276  14.710171 ]\n",
            " [ 9.173132  10.908426  10.868139  13.369736  15.199669 ]\n",
            " [11.163601  12.239257  12.579493  11.295198   8.254456 ]\n",
            " [ 8.777324   8.106525  14.661449   6.3872633 14.240103 ]], shape=(8, 5), dtype=float32) (8, 5) \n",
            "\n",
            "tf.Tensor(\n",
            "[ 6.936063   4.6514635 13.178732  -2.8601503  9.6685295 19.519102\n",
            " 15.532004  12.172665 ], shape=(8,), dtype=float32) (8,)\n"
          ]
        }
      ],
      "source": [
        "import tensorflow as tf\n",
        "\n",
        "N, n_feature = 8, 5\n",
        "\n",
        "t_weights = tf.constant([1,2,3,4,5], dtype = tf.float32)\n",
        "t_bias = tf.constant([10], dtype = tf.float32)\n",
        "\n",
        "\n",
        "X= tf.random.normal(mean=0,stddev=1, shape=(N,n_feature))\n",
        "\n",
        "print(X.shape, t_weights.shape, t_bias.shape)\n",
        "\n",
        "y = t_weights*X + t_bias # 브로드캐스팅으로 곱하기\n",
        "print(X, X.shape,\"\\n\") \n",
        "print(y, y.shape,\"\\n\")\n",
        "\n",
        "Y = tf.reduce_sum(t_weights*X, axis=1) + t_bias\n",
        "print(Y, Y.shape )"
      ]
    },
    {
      "cell_type": "markdown",
      "source": [
        "Dataset for Binary Classification"
      ],
      "metadata": {
        "id": "BKxxa5bWi-iq"
      }
    },
    {
      "cell_type": "code",
      "source": [
        "import tensorflow as tf\n",
        "\n",
        "N, n_feature = 8, 5\n",
        "\n",
        "t_weights = tf.constant([1,2,3,4,5], dtype = tf.float32)\n",
        "t_bias = tf.constant([10], dtype = tf.float32)\n",
        "\n",
        "X= tf.random.normal(mean=0,stddev=1, shape=(N,n_feature))\n",
        "Y = tf.reduce_sum(t_weights*X, axis=1) + t_bias\n",
        "Y = tf.cast(Y>5, tf.int32) # Binary Classification는 input인 데이터셋이 0 또는 1 로 나와야 하기 때문에\n",
        "# 캐스팅을 통해서 0또는 1로 바꿔준다\n",
        "# 여기서 Y>5 를 하면 불린 타입으로 나오고 그것을 tf.int32를 통해서 1 0 으로 바꾼것\n",
        "# 여기서 Y>5 는 합격이냐 불합격이냐 이런 느낌의 조건이 된다.\n",
        "print(Y)\n",
        "\n"
      ],
      "metadata": {
        "colab": {
          "base_uri": "https://localhost:8080/"
        },
        "id": "lc_pDtsyi-o4",
        "outputId": "b14e4c10-f947-4b19-ea11-199c51b64f09"
      },
      "execution_count": 13,
      "outputs": [
        {
          "output_type": "stream",
          "name": "stdout",
          "text": [
            "tf.Tensor([1 1 0 0 1 1 1 1], shape=(8,), dtype=int32)\n"
          ]
        }
      ]
    },
    {
      "cell_type": "markdown",
      "source": [
        "Dataset for Multi-class Classification"
      ],
      "metadata": {
        "id": "8eTCDZ9mi-uk"
      }
    },
    {
      "cell_type": "code",
      "source": [
        "import tensorflow as tf\n",
        "import matplotlib.pyplot as plt\n",
        "\n",
        "plt.style.use('seaborn')\n",
        "\n",
        "N,n_feature = 30,2\n",
        "n_class = 3\n",
        "\n",
        "X = tf.zeros(shape = (0,n_feature))\n",
        "Y = tf.zeros(shape=(0,1),dtype = tf.int32)\n",
        "\n",
        "fig, ax = plt.subplots(figsize=(5,5))\n",
        "\n",
        "for class_idx in range(n_class):\n",
        "  center = tf.random.uniform(minval =-15, maxval=15, shape=(2,)) \n",
        "  # center[0] = x값, center[1] = y값\n",
        "  # ax.scatter(center[0],center[1])\n",
        "\n",
        "  x1 = center[0] + tf.random.normal(shape=(N,1)) # x값 주변에 30(N)개씩 점 추가해서 영역 생성\n",
        "  x2 = center[1] + tf.random.normal(shape=(N,1)) # y값 주변에 30(N)개씩 점 추가해서 영역 생성\n",
        "\n",
        "  #ax.scatter(x1.numpy(), x2.numpy())\n",
        "\n",
        "  x = tf.concat((x1,x2),axis=1)\n",
        "  y = class_idx*tf.ones(shape=(N,1), dtype=tf.int32)\n",
        "\n",
        "  #print(x.shape, y.shape)\n",
        "\n",
        "  ax.scatter(x[:,0].numpy(), x[:,1].numpy(), alpha =0.3) # 결과적으로 각 영역이 하나의 데이터 셋이 된다.\n",
        "\n",
        "  X = tf.concat((X,x), axis = 0)\n",
        "  Y = tf.concat((Y,y), axis = 0)\n",
        "\n",
        "  print(X.shape, Y.shape)\n",
        "\n",
        "print(\"X(shape/dtype/data): {} / {}\\n{}\\n\".format(X.shape, X.dtype, X.numpy()))\n",
        "print(\"Y(shape/dtype/data): {} / {}\\n{}\\n\".format(Y.shape, Y.dtype, Y.numpy())) "
      ],
      "metadata": {
        "colab": {
          "base_uri": "https://localhost:8080/",
          "height": 1000
        },
        "id": "raCiOs7ci-zP",
        "outputId": "6010f73f-5706-4107-e7f5-a5144b9ebf41"
      },
      "execution_count": 25,
      "outputs": [
        {
          "output_type": "stream",
          "name": "stdout",
          "text": [
            "(30, 2) (30, 1)\n",
            "(60, 2) (60, 1)\n",
            "(90, 2) (90, 1)\n",
            "X(shape/dtype/data): (90, 2) / <dtype: 'float32'>\n",
            "[[  1.9238715    8.556612  ]\n",
            " [  1.8364543    8.010362  ]\n",
            " [  2.2846107    9.606791  ]\n",
            " [  2.435524     6.8731585 ]\n",
            " [  2.4154773    8.289635  ]\n",
            " [  0.48622358   9.82437   ]\n",
            " [  2.1226616    7.3098693 ]\n",
            " [  1.8850322    8.341318  ]\n",
            " [  1.0394965    6.889018  ]\n",
            " [  1.1696036    9.213081  ]\n",
            " [  1.4802134    9.318951  ]\n",
            " [  1.3827697    7.5122814 ]\n",
            " [  3.1758127   10.386001  ]\n",
            " [  0.8151752    8.448609  ]\n",
            " [  1.2949512    7.698453  ]\n",
            " [  2.4381528    8.591212  ]\n",
            " [  3.372452     8.666025  ]\n",
            " [  3.4762993    9.095864  ]\n",
            " [  3.3200278   10.270305  ]\n",
            " [  1.9138141    9.433446  ]\n",
            " [  4.1298866   10.287558  ]\n",
            " [  2.0760074    6.134142  ]\n",
            " [  2.1954565    6.9826264 ]\n",
            " [  0.9868375    8.928118  ]\n",
            " [  0.31233668   8.340517  ]\n",
            " [  2.6722164    9.740034  ]\n",
            " [  2.3967018    9.028214  ]\n",
            " [  2.7559166    8.548593  ]\n",
            " [  3.1049433    9.046218  ]\n",
            " [  1.9816694    8.6057005 ]\n",
            " [  9.939273     5.918193  ]\n",
            " [ 11.639697     6.854529  ]\n",
            " [ 12.085925     7.565595  ]\n",
            " [ 11.827862     5.0427094 ]\n",
            " [ 11.920122     5.1240463 ]\n",
            " [ 12.164169     5.8856897 ]\n",
            " [ 11.142066     5.3060207 ]\n",
            " [ 10.735928     7.374     ]\n",
            " [ 10.799294     6.238031  ]\n",
            " [ 10.6328945    5.579775  ]\n",
            " [ 10.441283     5.4280343 ]\n",
            " [ 12.573815     3.655683  ]\n",
            " [ 12.591935     4.9944673 ]\n",
            " [ 11.119092     6.2423534 ]\n",
            " [ 10.840531     7.4878473 ]\n",
            " [ 12.012697     4.9998975 ]\n",
            " [  9.885998     4.8883185 ]\n",
            " [ 11.153386     5.7880697 ]\n",
            " [ 11.304234     4.6745687 ]\n",
            " [ 11.682473     3.9929464 ]\n",
            " [ 13.223649     8.333081  ]\n",
            " [ 10.264101     5.24536   ]\n",
            " [  9.984013     6.1168847 ]\n",
            " [  9.696034     5.69834   ]\n",
            " [ 10.927487     5.5741043 ]\n",
            " [ 12.424282     7.3547454 ]\n",
            " [ 12.232783     5.873035  ]\n",
            " [ 10.072002     5.505297  ]\n",
            " [ 11.81054      6.0593977 ]\n",
            " [ 13.405728     6.156353  ]\n",
            " [-14.759562    13.571766  ]\n",
            " [-13.567988    11.904032  ]\n",
            " [-12.024511    14.454592  ]\n",
            " [-14.595285    14.714044  ]\n",
            " [-13.656704    12.736344  ]\n",
            " [-13.967136    12.658553  ]\n",
            " [-14.309455    14.101495  ]\n",
            " [-12.387147    13.077942  ]\n",
            " [-11.128356    13.540272  ]\n",
            " [-14.02222     12.537007  ]\n",
            " [-14.70386     12.491568  ]\n",
            " [-14.833687    16.189497  ]\n",
            " [-12.753494    13.28143   ]\n",
            " [-13.953251    13.160989  ]\n",
            " [-14.022077    12.847051  ]\n",
            " [-12.920613    12.039592  ]\n",
            " [-11.721313    13.023162  ]\n",
            " [-13.957265    13.04616   ]\n",
            " [-14.04136     13.181114  ]\n",
            " [-12.783023    15.0577755 ]\n",
            " [-15.083761    12.483544  ]\n",
            " [-15.556141    12.877602  ]\n",
            " [-13.411101    11.871242  ]\n",
            " [-12.973456    11.137299  ]\n",
            " [-14.792896    12.620676  ]\n",
            " [-12.748554    14.565814  ]\n",
            " [-13.896507    12.487597  ]\n",
            " [-13.320951    12.496231  ]\n",
            " [-12.677892    12.121506  ]\n",
            " [-12.054662    11.847696  ]]\n",
            "\n",
            "Y(shape/dtype/data): (90, 1) / <dtype: 'int32'>\n",
            "[[0]\n",
            " [0]\n",
            " [0]\n",
            " [0]\n",
            " [0]\n",
            " [0]\n",
            " [0]\n",
            " [0]\n",
            " [0]\n",
            " [0]\n",
            " [0]\n",
            " [0]\n",
            " [0]\n",
            " [0]\n",
            " [0]\n",
            " [0]\n",
            " [0]\n",
            " [0]\n",
            " [0]\n",
            " [0]\n",
            " [0]\n",
            " [0]\n",
            " [0]\n",
            " [0]\n",
            " [0]\n",
            " [0]\n",
            " [0]\n",
            " [0]\n",
            " [0]\n",
            " [0]\n",
            " [1]\n",
            " [1]\n",
            " [1]\n",
            " [1]\n",
            " [1]\n",
            " [1]\n",
            " [1]\n",
            " [1]\n",
            " [1]\n",
            " [1]\n",
            " [1]\n",
            " [1]\n",
            " [1]\n",
            " [1]\n",
            " [1]\n",
            " [1]\n",
            " [1]\n",
            " [1]\n",
            " [1]\n",
            " [1]\n",
            " [1]\n",
            " [1]\n",
            " [1]\n",
            " [1]\n",
            " [1]\n",
            " [1]\n",
            " [1]\n",
            " [1]\n",
            " [1]\n",
            " [1]\n",
            " [2]\n",
            " [2]\n",
            " [2]\n",
            " [2]\n",
            " [2]\n",
            " [2]\n",
            " [2]\n",
            " [2]\n",
            " [2]\n",
            " [2]\n",
            " [2]\n",
            " [2]\n",
            " [2]\n",
            " [2]\n",
            " [2]\n",
            " [2]\n",
            " [2]\n",
            " [2]\n",
            " [2]\n",
            " [2]\n",
            " [2]\n",
            " [2]\n",
            " [2]\n",
            " [2]\n",
            " [2]\n",
            " [2]\n",
            " [2]\n",
            " [2]\n",
            " [2]\n",
            " [2]]\n",
            "\n"
          ]
        },
        {
          "output_type": "display_data",
          "data": {
            "image/png": "[encoded data removed]",
            "text/plain": [
              "<Figure size 360x360 with 1 Axes>"
            ]
          },
          "metadata": {}
        }
      ]
    },
    {
      "cell_type": "markdown",
      "source": [
        "Dataset for Multi-class Classification with One-hot Encoding"
      ],
      "metadata": {
        "id": "yVsFZsudvtBX"
      }
    },
    {
      "cell_type": "code",
      "source": [
        "import tensorflow as tf\n",
        "import matplotlib.pyplot as plt\n",
        "\n",
        "plt.style.use('seaborn')\n",
        "\n",
        "N,n_feature = 8,2\n",
        "n_class = 3\n",
        "\n",
        "X = tf.zeros(shape = (0,n_feature))\n",
        "Y = tf.zeros(shape=(0,1),dtype = tf.int32)\n",
        "\n",
        "fig, ax = plt.subplots(figsize=(5,5))\n",
        "\n",
        "for class_idx in range(n_class):\n",
        "  center = tf.random.uniform(minval =-15, maxval=15, shape=(2,)) \n",
        "  # center[0] = x값, center[1] = y값\n",
        "  # ax.scatter(center[0],center[1])\n",
        "\n",
        "  x1 = center[0] + tf.random.normal(shape=(N,1)) # x값 주변에 30(N)개씩 점 추가해서 영역 생성\n",
        "  x2 = center[1] + tf.random.normal(shape=(N,1)) # y값 주변에 30(N)개씩 점 추가해서 영역 생성\n",
        "\n",
        "  #ax.scatter(x1.numpy(), x2.numpy())\n",
        "\n",
        "  x = tf.concat((x1,x2),axis=1)\n",
        "  y = class_idx*tf.ones(shape=(N,1), dtype=tf.int32)\n",
        "\n",
        "  #print(x.shape, y.shape)\n",
        "\n",
        "  ax.scatter(x[:,0].numpy(), x[:,1].numpy(), alpha =0.3) # 결과적으로 각 영역이 하나의 데이터 셋이 된다.\n",
        "\n",
        "  X = tf.concat((X,x), axis = 0)\n",
        "  Y = tf.concat((Y,y), axis = 0)\n",
        "\n",
        "print(X.shape, Y.shape)\n",
        "\n",
        "Y = tf.one_hot(Y, depth=n_class,dtype=tf.int32) # one_hot 인코딩 \n",
        "\n",
        "print(\"X(shape/dtype/data): {} / {}\\n{}\\n\".format(X.shape, X.dtype, X.numpy()))\n",
        "print(\"Y(shape/dtype/data): {} / {}\\n{}\\n\".format(Y.shape, Y.dtype, Y.numpy()))"
      ],
      "metadata": {
        "colab": {
          "base_uri": "https://localhost:8080/",
          "height": 1000
        },
        "id": "jt7j7lnEi-9c",
        "outputId": "bc40bc7e-9f24-4d45-b44a-61ea5f01d6f5"
      },
      "execution_count": 26,
      "outputs": [
        {
          "output_type": "stream",
          "name": "stdout",
          "text": [
            "(24, 2) (24, 1)\n",
            "X(shape/dtype/data): (24, 2) / <dtype: 'float32'>\n",
            "[[-12.435678   -13.464127  ]\n",
            " [-13.286019   -13.50438   ]\n",
            " [-15.622095   -13.570034  ]\n",
            " [-15.103091   -11.138169  ]\n",
            " [-14.685705   -12.625588  ]\n",
            " [-14.25891    -13.387359  ]\n",
            " [-15.240373   -14.404649  ]\n",
            " [-13.91861    -11.08847   ]\n",
            " [ 12.495551     8.612012  ]\n",
            " [ 13.131439     8.462014  ]\n",
            " [ 10.767958     7.850316  ]\n",
            " [ 12.495249     7.891487  ]\n",
            " [ 11.363252     8.665275  ]\n",
            " [ 11.845879    10.690586  ]\n",
            " [ 12.550166     5.099517  ]\n",
            " [ 12.745957     9.274074  ]\n",
            " [ -1.9050211    5.9504404 ]\n",
            " [ -2.2435133    2.278779  ]\n",
            " [ -3.3406994    3.3424153 ]\n",
            " [ -2.1668026    3.961874  ]\n",
            " [ -2.673834     2.4162354 ]\n",
            " [ -2.5604422    3.1962056 ]\n",
            " [ -0.82433426   2.0631084 ]\n",
            " [ -2.2726238    4.48595   ]]\n",
            "\n",
            "Y(shape/dtype/data): (24, 1, 3) / <dtype: 'int32'>\n",
            "[[[1 0 0]]\n",
            "\n",
            " [[1 0 0]]\n",
            "\n",
            " [[1 0 0]]\n",
            "\n",
            " [[1 0 0]]\n",
            "\n",
            " [[1 0 0]]\n",
            "\n",
            " [[1 0 0]]\n",
            "\n",
            " [[1 0 0]]\n",
            "\n",
            " [[1 0 0]]\n",
            "\n",
            " [[0 1 0]]\n",
            "\n",
            " [[0 1 0]]\n",
            "\n",
            " [[0 1 0]]\n",
            "\n",
            " [[0 1 0]]\n",
            "\n",
            " [[0 1 0]]\n",
            "\n",
            " [[0 1 0]]\n",
            "\n",
            " [[0 1 0]]\n",
            "\n",
            " [[0 1 0]]\n",
            "\n",
            " [[0 0 1]]\n",
            "\n",
            " [[0 0 1]]\n",
            "\n",
            " [[0 0 1]]\n",
            "\n",
            " [[0 0 1]]\n",
            "\n",
            " [[0 0 1]]\n",
            "\n",
            " [[0 0 1]]\n",
            "\n",
            " [[0 0 1]]\n",
            "\n",
            " [[0 0 1]]]\n",
            "\n"
          ]
        },
        {
          "output_type": "display_data",
          "data": {
            "image/png": "[encoded data removed]",
            "text/plain": [
              "<Figure size 360x360 with 1 Axes>"
            ]
          },
          "metadata": {}
        }
      ]
    },
    {
      "cell_type": "markdown",
      "source": [
        "Dataset Objects"
      ],
      "metadata": {
        "id": "NC03-ZXhi-4P"
      }
    },
    {
      "cell_type": "code",
      "source": [
        "import tensorflow as tf\n",
        "\n",
        "N, n_feature = 100, 5\n",
        "batch_size = 32\n",
        "\n",
        "t_weights = tf.constant([1,2,3,4,5], dtype = tf.float32)\n",
        "t_bias = tf.constant([10], dtype = tf.float32)\n",
        "\n",
        "X= tf.random.normal(mean=0,stddev=1, shape=(N,n_feature))\n",
        "Y = tf.reduce_sum(t_weights*X, axis=1) + t_bias\n",
        "\n",
        "'''\n",
        "for batch_idx in range(N//batch_size):\n",
        "  x = X[batch_idx * batch_size : (batch_idx + 1)* batch_size, ...]\n",
        "  y = Y[batch_idx * batch_size : (batch_idx + 1)* batch_size, ...]\n",
        "\n",
        "  print(x.shape, y.shape)\n",
        "'''\n",
        "\n",
        "dataset = tf.data.Dataset.from_tensor_slices((X,Y)) # 데이터셋 object를 만듦\n",
        "dataset = dataset.batch(batch_size)\n",
        "\n",
        "for x,y in dataset:\n",
        "  print(x.shape, y.shape)"
      ],
      "metadata": {
        "colab": {
          "base_uri": "https://localhost:8080/"
        },
        "id": "2baOEw_kvtJy",
        "outputId": "cc16cc1b-476a-4b76-83e9-c7d3faa0b253"
      },
      "execution_count": 28,
      "outputs": [
        {
          "output_type": "stream",
          "name": "stdout",
          "text": [
            "(32, 5) (32,)\n",
            "(32, 5) (32,)\n",
            "(32, 5) (32,)\n",
            "(4, 5) (4,)\n"
          ]
        }
      ]
    },
    {
      "cell_type": "code",
      "source": [
        ""
      ],
      "metadata": {
        "id": "l_RbvymOx1-q"
      },
      "execution_count": null,
      "outputs": []
    }
  ]
}