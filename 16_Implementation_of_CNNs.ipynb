{
  "nbformat": 4,
  "nbformat_minor": 0,
  "metadata": {
    "colab": {
      "name": "16. Implementation of CNNs.ipynb",
      "provenance": [],
      "collapsed_sections": [],
      "authorship_tag": "ABX9TyNm0CqUc36Pq1Y0YZp1/2rW"
    },
    "kernelspec": {
      "name": "python3",
      "display_name": "Python 3"
    },
    "language_info": {
      "name": "python"
    }
  },
  "cells": [
    {
      "cell_type": "markdown",
      "source": [
        "Implementation with Sequential Method"
      ],
      "metadata": {
        "id": "QxfGp3M5iIi9"
      }
    },
    {
      "cell_type": "code",
      "execution_count": 3,
      "metadata": {
        "colab": {
          "base_uri": "https://localhost:8080/"
        },
        "id": "ie9LvlxJiC1J",
        "outputId": "ec5d5c16-718b-46a3-8ec1-bfedac48c218"
      },
      "outputs": [
        {
          "output_type": "stream",
          "name": "stdout",
          "text": [
            "(4, 28, 28, 3)\n",
            "(4, 10)\n"
          ]
        }
      ],
      "source": [
        "import tensorflow as tf\n",
        "from tensorflow.keras.models import Sequential\n",
        "from tensorflow.keras.layers import Conv2D\n",
        "from tensorflow.keras.layers import MaxPooling2D\n",
        "from tensorflow.keras.layers import Flatten\n",
        "from tensorflow.keras.layers import Dense\n",
        "\n",
        "N, n_H, n_W, n_C = 4 ,28, 28, 3\n",
        "n_conv_neurons =[10,20,30]\n",
        "n_dense_neurons = [50,30,10]\n",
        "k_size, padding = 3,'same'\n",
        "pool_size, pool_strides = 2,2\n",
        "\n",
        "x=tf.random.normal(shape=(N, n_H, n_W, n_C))\n",
        "print(x.shape)\n",
        "# ----------- Feature Extractor --------------\n",
        "\n",
        "model = Sequential()\n",
        "model.add(Conv2D(filters=n_conv_neurons[0], kernel_size = k_size, padding = padding,\n",
        "               activation='relu'))\n",
        "model.add(MaxPooling2D(pool_size=pool_size, strides= pool_strides))\n",
        "model.add(Conv2D(filters=n_conv_neurons[1], kernel_size = k_size, padding = padding,\n",
        "               activation='relu'))\n",
        "model.add(MaxPooling2D(pool_size=pool_size, strides= pool_strides))\n",
        "model.add(Conv2D(filters=n_conv_neurons[2], kernel_size = k_size, padding = padding,\n",
        "               activation='relu'))\n",
        "model.add(MaxPooling2D(pool_size=pool_size, strides= pool_strides))\n",
        "model.add(Flatten()) # dense layer에 벡터 형식으로 넣기 위해 마지막에 flatten()을 해준것\n",
        "\n",
        "# ----------- Classifier --------------\n",
        "\n",
        "model.add(Dense(units=n_dense_neurons[0], activation='relu'))\n",
        "model.add(Dense(units=n_dense_neurons[1], activation='relu'))\n",
        "model.add(Dense(units=n_dense_neurons[2], activation='softmax'))\n",
        "\n",
        "predictions = model(x)\n",
        "print(predictions.shape) \n",
        "\n",
        "# 결과적으로 predictions를 구하는 방식이 될것이고, 4,10은 쉽게 설명해서\n",
        "# 4명의 학생에 10개의 성적의 각각의 확률이 될 것이다.\n",
        "\n"
      ]
    },
    {
      "cell_type": "code",
      "source": [
        "# for문을 통한 방식\n",
        "model = Sequential()\n",
        "\n",
        "for n_conv_neuron in  n_conv_neurons:\n",
        "  model.add(Conv2D(filters=n_conv_neurons, kernel_size = k_size, padding = padding,\n",
        "               activation='relu'))\n",
        "  model.add(MaxPooling2D(pool_size=pool_size, strides= pool_strides))\n",
        "\n",
        "model.add(Flatten()) \n",
        "\n",
        "for n_dense_neuron in  n_conv_neurons:\n",
        "  model.add(Dense(units=n_dense_neurons, activation='relu'))\n",
        "model.add(Dense(units=n_dense_neurons[-1], activation='softmax'))"
      ],
      "metadata": {
        "id": "l0AluejIlH6p"
      },
      "execution_count": null,
      "outputs": []
    },
    {
      "cell_type": "markdown",
      "source": [
        "Implementation with Model Sub-classing"
      ],
      "metadata": {
        "id": "JIhmZk1xiJcc"
      }
    },
    {
      "cell_type": "code",
      "source": [
        "import tensorflow as tf\n",
        "from tensorflow.keras.models import Model\n",
        "from tensorflow.keras.layers import Conv2D\n",
        "from tensorflow.keras.layers import MaxPooling2D\n",
        "from tensorflow.keras.layers import Flatten\n",
        "from tensorflow.keras.layers import Dense\n",
        "\n",
        "N, n_H, n_W, n_C = 4 ,28, 28, 3\n",
        "n_conv_neurons =[10,20,30]\n",
        "n_dense_neurons = [50,30,10]\n",
        "k_size, padding = 3,'same'\n",
        "pool_size, pool_strides = 2,2\n",
        "\n",
        "x=tf.random.normal(shape=(N, n_H, n_W, n_C))\n",
        "\n",
        "class TestCNN(Model):\n",
        "  def __init__(self):\n",
        "    super(TestCNN,self).__init__()\n",
        "\n",
        "    global n_conv_neurons,n_dense_neurons\n",
        "\n",
        "    self.conv1=Conv2D(filters=n_conv_neurons[0], kernel_size = k_size, padding = padding,\n",
        "               activation='relu')\n",
        "    self.conv1_pool=MaxPooling2D(pool_size=pool_size, strides= pool_strides)\n",
        "\n",
        "    self.conv2=Conv2D(filters=n_conv_neurons[1], kernel_size = k_size, padding = padding,\n",
        "               activation='relu')\n",
        "    self.conv2_pool=MaxPooling2D(pool_size=pool_size, strides= pool_strides)\n",
        "\n",
        "    self.conv3=Conv2D(filters=n_conv_neurons[2], kernel_size = k_size, padding = padding,\n",
        "               activation='relu')\n",
        "    self.conv3_pool=MaxPooling2D(pool_size=pool_size, strides= pool_strides)\n",
        "\n",
        "    self.flatten = Flatten()\n",
        "\n",
        "    self.dense1= Dense(units=n_dense_neurons[0], activation='relu')\n",
        "    self.dense2= Dense(units=n_dense_neurons[1], activation='relu')\n",
        "    self.dense3= Dense(units=n_dense_neurons[2], activation='softmax')\n",
        "\n",
        "  def call(self,x):\n",
        "    x = self.conv1(x)\n",
        "    x = self.conv1_pool(x)\n",
        "    print(x.shape) # 이렇게 중간중간 어떤 형태를 띄는지 확인 할 수있는게 Model의 장점이다.\n",
        "    x = self.conv2(x)\n",
        "    x = self.conv2_pool(x)\n",
        "    print(x.shape)\n",
        "    x = self.conv3(x)\n",
        "    x = self.conv3_pool(x)\n",
        "    print(x.shape)\n",
        "    x = self.flatten(x)\n",
        "    print(x.shape)\n",
        "    x = self.dense1(x)\n",
        "    x = self.dense2(x)\n",
        "    x = self.dense3(x)\n",
        "    print(x.shape)\n",
        "    return x\n",
        "\n",
        "model = TestCNN()\n",
        "y = model(x)\n",
        "print(y.shape)"
      ],
      "metadata": {
        "colab": {
          "base_uri": "https://localhost:8080/"
        },
        "id": "lwMtxbmmiJjU",
        "outputId": "3e26537d-32d1-4f56-a5d3-5366f390af6f"
      },
      "execution_count": 6,
      "outputs": [
        {
          "output_type": "stream",
          "name": "stdout",
          "text": [
            "(4, 14, 14, 10)\n",
            "(4, 7, 7, 20)\n",
            "(4, 3, 3, 30)\n",
            "(4, 270)\n",
            "(4, 10)\n",
            "(4, 10)\n"
          ]
        }
      ]
    },
    {
      "cell_type": "markdown",
      "source": [
        "Implementation with Sequential + Layer Sub-classing"
      ],
      "metadata": {
        "id": "xgq-oHh_iJwS"
      }
    },
    {
      "cell_type": "code",
      "source": [
        "import tensorflow as tf\n",
        "\n",
        "from tensorflow.keras.models import Sequential\n",
        "from tensorflow.keras.layers import Layer\n",
        "\n",
        "from tensorflow.keras.layers import Conv2D\n",
        "from tensorflow.keras.layers import MaxPooling2D\n",
        "from tensorflow.keras.layers import Flatten\n",
        "from tensorflow.keras.layers import Dense\n",
        "\n",
        "# Layer sub-classing 하는 법\n",
        "# Layer를 상속 받음\n",
        "\n",
        "self.conv1=Conv2D(filters=n_conv_neurons[0], kernel_size = k_size, padding = padding,\n",
        "              activation='relu')\n",
        "self.conv1_pool=MaxPooling2D(pool_size=pool_size, strides= pool_strides)\n",
        "\n",
        "class MyConv(Layer): \n",
        "  def __init__(self, n_neuron):\n",
        "    super(MyConv,self).__init__()\n",
        "\n",
        "    self.conv = Conv2D(filters=n_neuron, kernel_size = k_size, padding = padding,\n",
        "              activation='relu')\n",
        "    self.conv_pool = MaxPooling2D(pool_size=pool_size, strides= pool_strides)\n",
        "\n",
        "  def call(self,x):\n",
        "    x = self.conv(x)\n",
        "    x = self.conv_pool(x)\n",
        "    return x\n",
        "\n",
        "# 즉 MyConv라는 클래스는 layer 한장을 만드는데, 그 layer는 conv, maxpooling 하나씩 있는 layer가 될것이다\n",
        "# 그리고 후에 다른 곳에서 MyConv를 한번씩 호출하면 layer가 한 장씩 쌓이게 된다.\n",
        "# 즉, layer를 내가 custom해서 묶음 단위로 가지고 다니는 것이다.\n",
        "\n",
        "model = Sequential()\n",
        "model.add(MyConv(n_conv_neurons[0])) # 이런 식으로 layer클래스 한 장씩 쌓아주는 것이다.\n",
        "model.add(MyConv(n_conv_neurons[1])) \n",
        "model.add(MyConv(n_conv_neurons[2])) "
      ],
      "metadata": {
        "id": "qqZR3h1riJ0X"
      },
      "execution_count": null,
      "outputs": []
    },
    {
      "cell_type": "markdown",
      "source": [
        "Implementation with Model + Layer Sub-classing"
      ],
      "metadata": {
        "id": "WwB9egY4iJ4n"
      }
    },
    {
      "cell_type": "code",
      "source": [
        "import tensorflow as tf\n",
        "\n",
        "from tensorflow.keras.models import Model\n",
        "from tensorflow.keras.layers import Layer\n",
        "\n",
        "from tensorflow.keras.layers import Conv2D\n",
        "from tensorflow.keras.layers import MaxPooling2D\n",
        "from tensorflow.keras.layers import Flatten\n",
        "from tensorflow.keras.layers import Dense\n",
        "\n",
        "# Layer sub-classing 하는 법\n",
        "# Layer를 상속 받음\n",
        "\n",
        "self.conv1=Conv2D(filters=n_conv_neurons[0], kernel_size = k_size, padding = padding,\n",
        "              activation='relu')\n",
        "self.conv1_pool=MaxPooling2D(pool_size=pool_size, strides= pool_strides)\n",
        "\n",
        "class MyConv(Layer): \n",
        "  def __init__(self, n_neuron):\n",
        "    super(MyConv,self).__init__()\n",
        "\n",
        "    self.conv = Conv2D(filters=n_neuron, kernel_size = k_size, padding = padding,\n",
        "              activation='relu')\n",
        "    self.conv_pool = MaxPooling2D(pool_size=pool_size, strides= pool_strides)\n",
        "\n",
        "  def call(self,x):\n",
        "    x = self.conv(x)\n",
        "    x = self.conv_pool(x)\n",
        "    return x\n",
        "\n",
        "class TestCNN(Model):\n",
        "  def __init__(self):\n",
        "    super(TestCNN,self).__init__()\n",
        "\n",
        "    global n_conv_neurons,n_dense_neurons\n",
        "\n",
        "    self.conv1=Myconv(n_conv_neurons[0])\n",
        "    self.conv2=Myconv(n_conv_neurons[1])\n",
        "    self.conv3=Myconv(n_conv_neurons[2])\n",
        "\n",
        "    self.flatten = Flatten()\n",
        "\n",
        "    self.dense1= Dense(units=n_dense_neurons[0], activation='relu')\n",
        "    self.dense2= Dense(units=n_dense_neurons[1], activation='relu')\n",
        "    self.dense3= Dense(units=n_dense_neurons[2], activation='softmax')\n",
        "\n",
        "  def call(self,x):\n",
        "    x = self.conv1(x)\n",
        "    x = self.conv2(x)\n",
        "    x = self.conv3(x)\n",
        "    x = self.flatten(x)\n",
        "\n",
        "    x = self.dense1(x)\n",
        "    x = self.dense2(x)\n",
        "    x = self.dense3(x)\n",
        "    return x\n",
        "\n"
      ],
      "metadata": {
        "id": "DKROFiQUiJ85"
      },
      "execution_count": null,
      "outputs": []
    },
    {
      "cell_type": "code",
      "source": [
        "import tensorflow as tf\n",
        "\n",
        "from tensorflow.keras.models import Model\n",
        "from tensorflow.keras.models import Sequential\n",
        "\n",
        "from tensorflow.keras.layers import Layer\n",
        "from tensorflow.keras.layers import Conv2D\n",
        "from tensorflow.keras.layers import MaxPooling2D\n",
        "from tensorflow.keras.layers import Flatten\n",
        "from tensorflow.keras.layers import Dense\n",
        "\n",
        "\n",
        "class MyConv(Layer): \n",
        "  def __init__(self, n_neuron):\n",
        "    super(MyConv,self).__init__()\n",
        "\n",
        "    self.conv = Conv2D(filters=n_neuron, kernel_size = k_size, padding = padding,\n",
        "              activation='relu')\n",
        "    self.conv_pool = MaxPooling2D(pool_size=pool_size, strides= pool_strides)\n",
        "\n",
        "  def call(self,x):\n",
        "    x = self.conv(x)\n",
        "    x = self.conv_pool(x)\n",
        "    return x\n",
        "\n",
        "class TestCNN(Model):\n",
        "  def __init__(self):\n",
        "    super(TestCNN,self).__init__()\n",
        "\n",
        "    global n_conv_neurons,n_dense_neurons\n",
        "    \n",
        "    self.fe = Sequential()\n",
        "    self.fe.add(Myconv(n_conv_neurons[0]))\n",
        "    self.fe.add(Myconv(n_conv_neurons[1]))\n",
        "    self.fe.add(Myconv(n_conv_neurons[2]))\n",
        "    self.fe.add(Flatten())\n",
        "\n",
        "    self.classifier = Sequential()\n",
        "    self.classifier.add(Dense(units=n_dense_neurons[0], activation='relu'))\n",
        "    self.classifier.add(Dense(units=n_dense_neurons[1], activation='relu'))\n",
        "    self.classifier.add(Dense(units=n_dense_neurons[2], activation='softmax'))\n",
        "  def call(self,x):\n",
        "    \n",
        "    x = self.fe(x)\n",
        "    x = self.classifier(x)\n",
        "\n",
        "    return x\n"
      ],
      "metadata": {
        "id": "851NrLB6pV9v"
      },
      "execution_count": 8,
      "outputs": []
    }
  ]
}