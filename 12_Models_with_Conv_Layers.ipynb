{
  "nbformat": 4,
  "nbformat_minor": 0,
  "metadata": {
    "colab": {
      "name": "12. Models with Conv Layers.ipynb",
      "provenance": [],
      "collapsed_sections": [],
      "authorship_tag": "ABX9TyNVAaCHmcjwpdFq6L/WhqbT"
    },
    "kernelspec": {
      "name": "python3",
      "display_name": "Python 3"
    },
    "language_info": {
      "name": "python"
    }
  },
  "cells": [
    {
      "cell_type": "markdown",
      "source": [
        "Models with Squential Method"
      ],
      "metadata": {
        "id": "21Co6Px05IlP"
      }
    },
    {
      "cell_type": "code",
      "source": [
        "import tensorflow as tf\n",
        "from tensorflow.keras.models import Sequential\n",
        "from tensorflow.keras.layers import Conv2D\n",
        "\n",
        "n_neurons=[10,20,30]\n",
        "\n",
        "model = Sequential()\n",
        "model.add(Conv2D(filters=n_neurons[0],kernel_size = 3,activation='relu'))\n",
        "model.add(Conv2D(filters=n_neurons[1],kernel_size = 3,activation='relu'))\n",
        "model.add(Conv2D(filters=n_neurons[2],kernel_size = 3,activation='relu'))\n",
        "\n",
        "x = tf.random.normal(shape=(32,28,28,3))\n",
        "predictions = model(x)\n",
        "\n",
        "print(\"Input : {}\".format(x.shape))\n",
        "print(\"output : {}\".format(predictions.shape))\n",
        "\n",
        "for layer in model.layers:\n",
        "  W,B = layer.get_weights()\n",
        "  print(W.shape)\n",
        "  print(B.shape)\n",
        "\n",
        "print('============')\n",
        "trainable_variables = model.trainable_variables\n",
        "for train_var in trainable_variables: # layer shape 과 kernel의 W,B 의 정보를 담고 있음\n",
        "  print(train_var.shape)"
      ],
      "metadata": {
        "colab": {
          "base_uri": "https://localhost:8080/"
        },
        "id": "jOI07PCP5Jhn",
        "outputId": "7b5f60bd-5295-4551-f5e2-f14bd4b54c9e"
      },
      "execution_count": 5,
      "outputs": [
        {
          "output_type": "stream",
          "name": "stdout",
          "text": [
            "Input : (32, 28, 28, 3)\n",
            "output : (32, 22, 22, 30)\n",
            "(3, 3, 3, 10)\n",
            "(10,)\n",
            "(3, 3, 10, 20)\n",
            "(20,)\n",
            "(3, 3, 20, 30)\n",
            "(30,)\n",
            "\n",
            "(3, 3, 3, 10)\n",
            "(10,)\n",
            "(3, 3, 10, 20)\n",
            "(20,)\n",
            "(3, 3, 20, 30)\n",
            "(30,)\n"
          ]
        }
      ]
    },
    {
      "cell_type": "markdown",
      "source": [
        "Models witfh Model Sub-classing"
      ],
      "metadata": {
        "id": "gTQtgXrR5Jl9"
      }
    },
    {
      "cell_type": "code",
      "source": [
        "import tensorflow as tf\n",
        "from tensorflow.keras.models import Model\n",
        "from tensorflow.keras.layers import Conv2D\n",
        "\n",
        "n_neurons=[10,20,30]\n",
        "\n",
        "class TestModel(Model):\n",
        "  def __init__(self):\n",
        "    super(TestModel,self).__init__()\n",
        "    global n_neurons\n",
        "\n",
        "    self.conv_layers=[]\n",
        "\n",
        "    for n_neuron in n_neurons:\n",
        "      self.conv_layers.append(Conv2D(filters=n_neuron,kernel_size = 3,activation='relu'))\n",
        "\n",
        "  print('==== Conv Layers ==== \\n')\n",
        "  def call(self,x):\n",
        "    print(\"Input: \",x.shape)\n",
        "    for conv_layer in self.conv_layers:\n",
        "      x = conv_layer(x)\n",
        "      W,B = conv_layer.get_weights()\n",
        "      print(\"W/B : {}/{}\\n\".format(W.shape,B.shape))\n",
        "    return x\n",
        "\n",
        "model = TestModel()\n",
        "\n",
        "x = tf.random.normal(shape=(32,28,28,3))\n",
        "predictions = model(x)\n",
        "\n",
        "print('==== Result ==== \\n')\n",
        "for layer in model.layers:\n",
        "  W,B = layer.get_weights()\n",
        "  print(W.shape)\n",
        "  print(B.shape)\n",
        "\n",
        "print('============')\n",
        "trainable_variables = model.trainable_variables\n",
        "for train_var in trainable_variables: \n",
        "  print(train_var.shape)"
      ],
      "metadata": {
        "colab": {
          "base_uri": "https://localhost:8080/"
        },
        "id": "vvG4EGBD5Jtd",
        "outputId": "ea24bbcf-3f67-442a-ae2c-536284e4b2ce"
      },
      "execution_count": 11,
      "outputs": [
        {
          "output_type": "stream",
          "name": "stdout",
          "text": [
            "==== Conv Layers ==== \n",
            "\n",
            "Input:  (32, 28, 28, 3)\n",
            "W/B : (3, 3, 3, 10)/(10,)\n",
            "\n",
            "W/B : (3, 3, 10, 20)/(20,)\n",
            "\n",
            "W/B : (3, 3, 20, 30)/(30,)\n",
            "\n",
            "==== Result ==== \n",
            "\n",
            "(3, 3, 3, 10)\n",
            "(10,)\n",
            "(3, 3, 10, 20)\n",
            "(20,)\n",
            "(3, 3, 20, 30)\n",
            "(30,)\n",
            "============\n",
            "(3, 3, 3, 10)\n",
            "(10,)\n",
            "(3, 3, 10, 20)\n",
            "(20,)\n",
            "(3, 3, 20, 30)\n",
            "(30,)\n"
          ]
        }
      ]
    },
    {
      "cell_type": "code",
      "source": [
        ""
      ],
      "metadata": {
        "id": "lBCT3LpK7__0"
      },
      "execution_count": null,
      "outputs": []
    }
  ]
}