{
  "nbformat": 4,
  "nbformat_minor": 0,
  "metadata": {
    "colab": {
      "name": "Affine Function.ipynb",
      "provenance": [],
      "collapsed_sections": [],
      "authorship_tag": "ABX9TyMaCwb0X3b7bckiKBc2m74y",
      "include_colab_link": true
    },
    "kernelspec": {
      "name": "python3",
      "display_name": "Python 3"
    },
    "language_info": {
      "name": "python"
    }
  },
  "cells": [
    {
      "cell_type": "markdown",
      "metadata": {
        "id": "view-in-github",
        "colab_type": "text"
      },
      "source": [
        "<a href=\"https://colab.research.google.com/github/SungHunYang/AI_start/blob/main/Affine_Function.ipynb\" target=\"_parent\"><img src=\"https://colab.research.google.com/assets/colab-badge.svg\" alt=\"Open In Colab\"/></a>"
      ]
    },
    {
      "cell_type": "markdown",
      "source": [
        "Affine Function"
      ],
      "metadata": {
        "id": "2BvA2JEiUTy4"
      }
    },
    {
      "cell_type": "code",
      "execution_count": 6,
      "metadata": {
        "colab": {
          "base_uri": "https://localhost:8080/"
        },
        "id": "EEptj1beUGPY",
        "outputId": "8be2d16d-c122-4394-e7fa-bbd4f6bd8aba"
      },
      "outputs": [
        {
          "output_type": "stream",
          "name": "stdout",
          "text": [
            "tf.Tensor([[10.]], shape=(1, 1), dtype=float32)\n",
            "tf.Tensor([[-0.77956915]], shape=(1, 1), dtype=float32)\n",
            "[[-0.07795691]] [0.]\n",
            "===== Input/ Weight/ Bias ======\n",
            "x: (1, 1) \n",
            " [[10.]] \n",
            "\n",
            "W: (1, 1) \n",
            " [[-0.07795691]] \n",
            "\n",
            "B: (1,) \n",
            " [0.] \n",
            "\n",
            "===== output/ Weight/ Bias ======\n",
            "y(tensorflow): (1, 1) \n",
            " [[-0.77956915]] \n",
            "\n",
            "y(manual): (1, 1) \n",
            " [[-0.77956915]] \n",
            "\n"
          ]
        }
      ],
      "source": [
        "import tensorflow as tf\n",
        "from tensorflow.keras.layers import Dense\n",
        "\n",
        "x=tf.constant([[10.]]) # input setting (Note : input -> matrix)\n",
        "print(x)\n",
        "\n",
        "dense = Dense(units=1, activation='linear') # imp.an affine function #affine function을 가져온 것\n",
        "# units 는 affine function을 몇개 만들지 정하는 것이고,\n",
        "# activation을 linear 로 하면 z 자체가 결과값이 되는것\n",
        "\n",
        "y_tf = dense(x) # output # forward propagation + params initialization\n",
        "print(y_tf)\n",
        "# 여기를 통과 해야 즉, dense를 만나야 W, B를 초기화 된다.\n",
        "\n",
        "W, B= dense.get_weights() # get weight, bias\n",
        "print(W,B)\n",
        "\n",
        "y_man  = tf.linalg.matmul(x, W) + B # forward propagation(manual)\n",
        "# 여기는 직접 x값과 Weight를 넣고 +B까지 해서 식을 만든 것이다.\n",
        "\n",
        "\n",
        "#print results\n",
        "print(\"===== Input/ Weight/ Bias ======\")\n",
        "print(\"x: {} \\n {} \\n\".format(x.shape,x.numpy()))\n",
        "print(\"W: {} \\n {} \\n\".format(W.shape,W))\n",
        "print(\"B: {} \\n {} \\n\".format(B.shape,B))\n",
        "\n",
        "print(\"===== output/ Weight/ Bias ======\")\n",
        "print(\"y(tensorflow): {} \\n {} \\n\".format(y_tf.shape,y_tf.numpy()))\n",
        "print(\"y(manual): {} \\n {} \\n\".format(y_man.shape,y_man.numpy()))\n",
        "# tensorflow로 자동 계산 된것과 직접 식을 만들어 본것을 확인해보는 과정"
      ]
    },
    {
      "cell_type": "markdown",
      "source": [
        "Params Initialization"
      ],
      "metadata": {
        "id": "jkP4cFPuYTEi"
      }
    },
    {
      "cell_type": "code",
      "source": [
        "import tensorflow as tf\n",
        "from tensorflow.keras.layers import Dense\n",
        "from tensorflow.keras.initializers import Constant\n",
        "\n",
        "\n",
        "x=tf.constant([[10.]]) # input setting (Note : input -> matrix)\n",
        "\n",
        "# weight/bias setting\n",
        "\n",
        "w,b = tf.constant(10.), tf.constant(20.) \n",
        "# weight와 bias가 각각 상수 10 과 20으로 만들어주는 object가 되는거다\n",
        "# 한마디로 지금 w,b를 출력하면 10 20 이 아니라 object 형태인 것이고,\n",
        "# 이 object가 Dense나 layer를 만나면 상수화 되는 것\n",
        "# 여기서 .은 floating point 32bit이기 때문에 적어준다.\n",
        "\n",
        "w_init, b_init = Constant(w), Constant(b)\n",
        "\n",
        "print(w_init, b_init)\n",
        "\n",
        "# imp. an affine function\n",
        "# weight, bias 초기화 시키기\n",
        "dense = Dense(units=1, activation = 'linear', kernel_initializer = w_init,bias_initializer = b_init)\n",
        "# kernel_intializer = w_init,bias_intializer = b_init 이전에 초기화 했던 것과는 다르게\n",
        "# kernel_intializer = w_init,bias_intializer = b_init 를 통해서 내가 원하는 값으로 초기화\n",
        "\n",
        "y_tf = dense(x)\n",
        "print(y_tf) # input x =10, weight =10 bias =20 \n",
        "# 즉 10X10+20 = 120 \n",
        "W,B = dense.get_weights()\n",
        "\n",
        "#print results\n",
        "print(\"W : {} \\n {}\\n\".format(W.shape,W))\n",
        "print(\"B : {} \\n {}\\n\".format(B.shape,B))"
      ],
      "metadata": {
        "colab": {
          "base_uri": "https://localhost:8080/"
        },
        "id": "09LCrfc9U1Tz",
        "outputId": "1c1b5287-b3a7-4b6e-e464-9793876791e2"
      },
      "execution_count": 12,
      "outputs": [
        {
          "output_type": "stream",
          "name": "stdout",
          "text": [
            "<keras.initializers.initializers_v2.Constant object at 0x7faa3bedcc50> <keras.initializers.initializers_v2.Constant object at 0x7faa3bedc7d0>\n",
            "tf.Tensor([[120.]], shape=(1, 1), dtype=float32)\n",
            "W : (1, 1) \n",
            " [[10.]]\n",
            "\n",
            "B : (1,) \n",
            " [20.]\n",
            "\n"
          ]
        }
      ]
    },
    {
      "cell_type": "markdown",
      "source": [
        "Affine Function with n Features"
      ],
      "metadata": {
        "id": "7-dKhf2Ebanz"
      }
    },
    {
      "cell_type": "code",
      "source": [
        "import tensorflow as tf\n",
        "from tensorflow.keras.layers import Dense\n",
        "\n",
        "x=tf.random.uniform(shape=(1,10), minval=0, maxval=10)\n",
        "# 1행 10열의 형태로 최소 0 ~ 최대 10 사이에서 uniform하게 만들어라\n",
        "# row vector 1개의 값이 10개이다.\n",
        "print(x.shape,'\\n',x)\n",
        "\n",
        "dense = Dense(units=1) # dense라는 affine Function을 만든것\n",
        "# 인공지능 뉴런의 기본에서 affine function + activation function 이니까\n",
        "# affine function을 만든 상태이고 activation은 linear로 default 되어 있는 상태인 것\n",
        "\n",
        "y_tf = dense(x) # 여기서 보면 x를 input으로 넣은 거니까\n",
        "# x의 개수 10개 만큼 자동으로 weight 10개 초기화\n",
        "\n",
        "W, B = dense.get_weights() # weight는 컬럼 vector, bias는 scalar\n",
        "\n",
        "y_man = tf.linalg.matmul(x, W) + B # = Z 를 말한다.\n",
        "\n",
        "#print results\n",
        "print(\"===== Input/ Weight/ Bias ======\")\n",
        "print(\"x: {} \\n {} \\n\".format(x.shape,x.numpy()))\n",
        "print(\"W: {} \\n {} \\n\".format(W.shape,W))\n",
        "print(\"B: {} \\n {} \\n\".format(B.shape,B))\n",
        "\n",
        "print(\"===== output/ Weight/ Bias ======\")\n",
        "print(\"y(tensorflow): {} \\n {} \\n\".format(y_tf.shape,y_tf.numpy()))\n",
        "print(\"y(manual): {} \\n {} \\n\".format(y_man.shape,y_man.numpy()))"
      ],
      "metadata": {
        "colab": {
          "base_uri": "https://localhost:8080/"
        },
        "id": "Hm_ML_xDYdqz",
        "outputId": "3c7eac16-4fc6-402c-fa31-4dbe8df987ef"
      },
      "execution_count": 16,
      "outputs": [
        {
          "output_type": "stream",
          "name": "stdout",
          "text": [
            "(1, 10) \n",
            " tf.Tensor(\n",
            "[[7.7889132  0.98971486 3.4335387  0.33073068 6.068529   6.867788\n",
            "  2.8193164  3.7097073  6.8079996  8.706998  ]], shape=(1, 10), dtype=float32)\n",
            "===== Input/ Weight/ Bias ======\n",
            "x: (1, 10) \n",
            " [[7.7889132  0.98971486 3.4335387  0.33073068 6.068529   6.867788\n",
            "  2.8193164  3.7097073  6.8079996  8.706998  ]] \n",
            "\n",
            "W: (10, 1) \n",
            " [[ 0.11251384]\n",
            " [ 0.7159937 ]\n",
            " [ 0.3837133 ]\n",
            " [ 0.4140424 ]\n",
            " [-0.5192524 ]\n",
            " [-0.60033673]\n",
            " [-0.529286  ]\n",
            " [-0.138327  ]\n",
            " [ 0.08178371]\n",
            " [ 0.44795984]] \n",
            "\n",
            "B: (1,) \n",
            " [0.] \n",
            "\n",
            "===== output/ Weight/ Bias ======\n",
            "y(tensorflow): (1, 1) \n",
            " [[-1.7828708]] \n",
            "\n",
            "y(manual): (1, 1) \n",
            " [[-1.7828708]] \n",
            "\n"
          ]
        }
      ]
    },
    {
      "cell_type": "code",
      "source": [
        ""
      ],
      "metadata": {
        "id": "-uUZE9RFag_4"
      },
      "execution_count": null,
      "outputs": []
    }
  ]
}