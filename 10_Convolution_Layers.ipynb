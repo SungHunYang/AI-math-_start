{
  "nbformat": 4,
  "nbformat_minor": 0,
  "metadata": {
    "colab": {
      "name": "10. Convolution Layers.ipynb",
      "provenance": [],
      "collapsed_sections": [],
      "authorship_tag": "ABX9TyOZbfbKcNYmk9eqRtMcVkR4"
    },
    "kernelspec": {
      "name": "python3",
      "display_name": "Python 3"
    },
    "language_info": {
      "name": "python"
    }
  },
  "cells": [
    {
      "cell_type": "markdown",
      "source": [
        "Shapes of Conv Layers"
      ],
      "metadata": {
        "id": "ESl9NZAY8ToM"
      }
    },
    {
      "cell_type": "code",
      "execution_count": 2,
      "metadata": {
        "colab": {
          "base_uri": "https://localhost:8080/"
        },
        "id": "-17NuO-08MnW",
        "outputId": "bed24190-e6ee-4e7c-cbf1-ad0c6ac5def6"
      },
      "outputs": [
        {
          "output_type": "stream",
          "name": "stdout",
          "text": [
            "(1, 28, 28, 1)\n",
            "(1, 26, 26, 1)\n",
            "(3, 3, 1, 1)\n",
            "(1,)\n"
          ]
        }
      ],
      "source": [
        "import tensorflow as tf\n",
        "from tensorflow.keras.layers import Conv2D\n",
        "\n",
        "N, n_H, n_W, n_C = 1, 28 , 28 , 1 \n",
        "# 4차원 input\n",
        "# 몇장, 높이, 넓이, 몇채널(R,G,B 같은것) -> 채널은 몇장이 겹쳐있냐고 생각하면 좋다.\n",
        "\n",
        "n_filter = 1\n",
        "k_size = 3 \n",
        "# 커널 size 가 window size랑 같아야 한다는 것 생각하자\n",
        "\n",
        "images = tf.random.uniform(minval=0, maxval=1, shape=((N,n_H,n_W,n_C)))\n",
        "\n",
        "\n",
        "conv = Conv2D( filters =n_filter, kernel_size=k_size)\n",
        "\n",
        "y = conv(images)\n",
        "\n",
        "W, B = conv.get_weights()\n",
        "\n",
        "print(images.shape)\n",
        "print(y.shape) # 28 - 3 + 1 = 26, 커널의 개수(필터 개수)가 1개 이기 때문에 이미지는 1장만 나오게 된다.\n",
        "# 필터를 Dense의 뉴런처럼 생각하면 이해하기 좋다.\n",
        "print(W.shape)\n",
        "print(B.shape)"
      ]
    },
    {
      "cell_type": "markdown",
      "source": [
        "Correlation Calculation"
      ],
      "metadata": {
        "id": "H_dWxKj48S8c"
      }
    },
    {
      "cell_type": "code",
      "source": [
        "import numpy as np\n",
        "import tensorflow as tf\n",
        "from tensorflow.keras.layers import Conv2D\n",
        "\n",
        "N, n_H, n_W, n_C = 1, 5 , 5 , 1 \n",
        "\n",
        "n_filter = 1\n",
        "k_size = 3 \n",
        "\n",
        "images = tf.random.uniform(minval=0, maxval=1, shape=((N,n_H,n_W,n_C)))\n",
        "\n",
        "\n",
        "conv = Conv2D( filters =n_filter, kernel_size=k_size)\n",
        "\n",
        "y = conv(images)\n",
        "print('Y(Tensorflow): \\n',y.numpy().squeeze()) # 쓸데없는 1짜리 dimension을 없애주는 squeeze 라는 메소드\n",
        "# 즉, 여기서는 몇장인지 몇겹인지가 안보이게 된다.\n",
        "W, B = conv.get_weights()\n",
        "\n",
        "\n",
        "images = images.numpy().squeeze()\n",
        "W= W.squeeze()\n",
        "\n",
        "y_man = np.zeros(shape=(n_H-k_size+1, n_W-k_size+1))\n",
        "for i in range(n_H-k_size+1):\n",
        "  for j in range(n_W-k_size+1):\n",
        "    Window = images[i:i+k_size, j:j+k_size] # k_size 즉 window size만큼 나뉘어 지고,\n",
        "    y_man[i,j] = np.sum(Window*W)+B # 그 window와 Weight를 correlation 시키고 Bias를 더하고\n",
        "\n",
        "print(\"Y(Manual) : \\n\",y_man)\n",
        "\n"
      ],
      "metadata": {
        "colab": {
          "base_uri": "https://localhost:8080/"
        },
        "id": "KtcXFw2g8TEf",
        "outputId": "c5598eb7-2f76-4145-d4f7-ff5809c0b012"
      },
      "execution_count": 4,
      "outputs": [
        {
          "output_type": "stream",
          "name": "stdout",
          "text": [
            "Y(Tensorflow): \n",
            " [[ 0.27606472  0.28212565  0.4735132 ]\n",
            " [ 0.27920434 -0.0062186   0.13499665]\n",
            " [ 0.38137043  0.7240492   0.9987487 ]]\n",
            "Y(Manual) : \n",
            " [[ 0.27606472  0.28212565  0.47351319]\n",
            " [ 0.27920434 -0.0062186   0.13499665]\n",
            " [ 0.38137043  0.72404921  0.99874872]]\n"
          ]
        }
      ]
    },
    {
      "cell_type": "markdown",
      "source": [
        "Correlation with n-channel"
      ],
      "metadata": {
        "id": "y0Aoel8E8TKz"
      }
    },
    {
      "cell_type": "code",
      "source": [
        "import numpy as np\n",
        "import tensorflow as tf\n",
        "from tensorflow.keras.layers import Conv2D\n",
        "\n",
        "N, n_H, n_W, n_C = 1, 5 , 5 , 3 \n",
        "\n",
        "n_filter = 1\n",
        "k_size = 3 \n",
        "\n",
        "images = tf.random.uniform(minval=0, maxval=1, shape=((N,n_H,n_W,n_C)))\n",
        "\n",
        "\n",
        "conv = Conv2D( filters =n_filter, kernel_size=k_size)\n",
        "\n",
        "y = conv(images)\n",
        "print('Y(Tensorflow): \\n',y.numpy().squeeze()) \n",
        "W, B = conv.get_weights()\n",
        "\n",
        "\n",
        "images = images.numpy().squeeze()\n",
        "W= W.squeeze()\n",
        "\n",
        "y_man = np.zeros(shape=(n_H-k_size+1, n_W-k_size+1))\n",
        "for i in range(n_H-k_size+1):\n",
        "  for j in range(n_W-k_size+1):\n",
        "    Window = images[i:i+k_size, j:j+k_size, :] # Channel 이 생기면서 3차원이 되므로 : 추가 해줘야함\n",
        "    y_man[i,j] = np.sum(Window*W)+B # 차원에 맞춰서 np.sum에서 correlation 해줌\n",
        "\n",
        "print(\"Y(Manual) : \\n\",y_man)\n",
        "\n"
      ],
      "metadata": {
        "colab": {
          "base_uri": "https://localhost:8080/"
        },
        "id": "k3_CUzqJ8TQB",
        "outputId": "348ad070-4a9a-411e-aa73-7a918c3224f8"
      },
      "execution_count": 5,
      "outputs": [
        {
          "output_type": "stream",
          "name": "stdout",
          "text": [
            "Y(Tensorflow): \n",
            " [[-1.3987637  -1.1099812  -1.1378502 ]\n",
            " [-1.2972409  -0.9867747  -1.4458784 ]\n",
            " [-1.027247   -0.50466377 -1.2553589 ]]\n",
            "Y(Manual) : \n",
            " [[-1.39876366 -1.10998118 -1.13785017]\n",
            " [-1.29724073 -0.98677468 -1.44587803]\n",
            " [-1.02724695 -0.50466371 -1.25535893]]\n"
          ]
        }
      ]
    }
  ]
}