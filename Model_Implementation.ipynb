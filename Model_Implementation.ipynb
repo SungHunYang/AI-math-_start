{
  "nbformat": 4,
  "nbformat_minor": 0,
  "metadata": {
    "colab": {
      "name": "Model Implementation.ipynb",
      "provenance": [],
      "collapsed_sections": [],
      "authorship_tag": "ABX9TyMw/hpykW+gdgtv6Zf89yeo"
    },
    "kernelspec": {
      "name": "python3",
      "display_name": "Python 3"
    },
    "language_info": {
      "name": "python"
    }
  },
  "cells": [
    {
      "cell_type": "markdown",
      "source": [
        "Model Implementation with Sequential Method"
      ],
      "metadata": {
        "id": "XdSIknsMsIlk"
      }
    },
    {
      "cell_type": "code",
      "source": [
        "from tensorflow.keras.layers import Dense\n",
        "from tensorflow.keras.models import Sequential\n",
        "\n",
        "model = Sequential() # Sequential이라는 object가 dense_layer를 포함하게 된다.\n",
        "# 즉, 빈 껍데기 Sequential()에 layer를 넣어가며 연결하게 된다.\n",
        "# 단, 이름에서 볼 수 있듯이 반드시 순서에 맞게 차곡차곡 쌓여야 한다.\n",
        "# 따라서 중간에 다른 layer가 들어와서 순서가 맞지 않는 경우에는 사용하기 힘들다\n",
        "\n",
        "model.add(Dense(units =10, activation = 'sigmoid')) # model에 뉴런 10개짜리 layer를 넣는 것\n",
        "model.add(Dense(units =20, activation = 'sigmoid'))\n"
      ],
      "metadata": {
        "id": "yMQkgh4ysJXI"
      },
      "execution_count": null,
      "outputs": []
    },
    {
      "cell_type": "markdown",
      "source": [
        "Model Implementation with Model-subclassing"
      ],
      "metadata": {
        "id": "vpa7mtflsJR8"
      }
    },
    {
      "cell_type": "code",
      "source": [
        "from tensorflow.keras.layers import Dense\n",
        "from tensorflow.keras.models import Model\n",
        "'''\n",
        "subclassing 이란게 상속과 관련이 있기 때문에 \n",
        "쉽게 생각해서 Model이란것을 상속받아서 사용한다고 생각하면 된다.\n",
        "'''\n",
        "# Model = 최상위 클래스\n",
        "class TestModel(Model): \n",
        "  def __init__(self):\n",
        "    super(TestModel,self).__init__()\n",
        "\n",
        "    self.dense1 = Dense(units =10, activation = 'sigmoid')\n",
        "    self.dense2 = Dense(units =20, activation = 'sigmoid')\n",
        "\n",
        "model = TestModel()\n",
        "print(model.dense1) # 클래스를 통해 객체로 만들어진 dense1\n",
        "print(model.dense2) # 클래스를 통해 객체로 만들어진 dense2\n"
      ],
      "metadata": {
        "colab": {
          "base_uri": "https://localhost:8080/"
        },
        "id": "e1a49KU3sJiO",
        "outputId": "a2e03c81-b183-4e4f-8634-1e987d68e1dd"
      },
      "execution_count": 2,
      "outputs": [
        {
          "output_type": "stream",
          "name": "stdout",
          "text": [
            "<keras.layers.core.dense.Dense object at 0x7f5a1cf32fd0>\n",
            "<keras.layers.core.dense.Dense object at 0x7f5a1ceccd90>\n"
          ]
        }
      ]
    },
    {
      "cell_type": "markdown",
      "source": [
        "Forward Propagation of Models"
      ],
      "metadata": {
        "id": "dHUDllMUsJcx"
      }
    },
    {
      "cell_type": "code",
      "execution_count": 7,
      "metadata": {
        "colab": {
          "base_uri": "https://localhost:8080/"
        },
        "id": "C9FpVVM8ruS9",
        "outputId": "17c707cc-9ec7-4e20-bd75-d23850dd36ef"
      },
      "outputs": [
        {
          "output_type": "stream",
          "name": "stdout",
          "text": [
            "[[0.55900663 0.489433   0.45587075 0.55137694 0.399872   0.50042367\n",
            "  0.69128084 0.47751653 0.6074152  0.42358044 0.30361843 0.2980089\n",
            "  0.4624486  0.70454377 0.47752887 0.3464082  0.533198   0.3697009\n",
            "  0.5297777  0.4262625 ]\n",
            " [0.5693436  0.49701238 0.472203   0.5240269  0.40674698 0.5051891\n",
            "  0.6801889  0.49135074 0.6359196  0.39855152 0.3609901  0.31283385\n",
            "  0.47697282 0.6588012  0.49901736 0.3833096  0.5414999  0.4231888\n",
            "  0.5297066  0.4314164 ]\n",
            " [0.55313843 0.47698686 0.44937432 0.5473808  0.41916242 0.56403303\n",
            "  0.71342534 0.5571539  0.5918141  0.5136281  0.2811449  0.41970268\n",
            "  0.51309615 0.64710367 0.4531325  0.33024406 0.5787457  0.44116855\n",
            "  0.49701577 0.4292501 ]\n",
            " [0.52947754 0.36121142 0.3998351  0.4757394  0.3643645  0.59846914\n",
            "  0.69880426 0.64371574 0.6273218  0.43024212 0.2691578  0.40596515\n",
            "  0.41967592 0.6374463  0.40763223 0.26919824 0.60609096 0.3119201\n",
            "  0.47771594 0.5060284 ]] \n",
            "\n",
            "[[0.4453413  0.51808256 0.5821983  0.4394133  0.4899062  0.530631\n",
            "  0.284787   0.6548733  0.3811007  0.2987798  0.4473859  0.5655809\n",
            "  0.60248    0.53868157 0.5299044  0.4761984  0.57430905 0.47848207\n",
            "  0.43681157 0.42479068]\n",
            " [0.49597916 0.4806287  0.613305   0.4560629  0.4927188  0.56665945\n",
            "  0.27729198 0.65302336 0.3514698  0.29511237 0.45752203 0.5609434\n",
            "  0.61605436 0.57959205 0.5279356  0.48625252 0.5751073  0.4954391\n",
            "  0.36423415 0.44191533]\n",
            " [0.41587374 0.5227112  0.5375711  0.41962206 0.5532304  0.5073173\n",
            "  0.3159253  0.6522164  0.4489394  0.30869848 0.44800532 0.52326775\n",
            "  0.58036613 0.48779082 0.56492376 0.42212352 0.5812915  0.45923045\n",
            "  0.49143767 0.43287832]\n",
            " [0.48863629 0.43709087 0.59752977 0.5312124  0.52932984 0.4802171\n",
            "  0.27558675 0.6731338  0.3851165  0.32634968 0.43151864 0.53159046\n",
            "  0.5615317  0.4822816  0.47051093 0.45820373 0.6169363  0.45603305\n",
            "  0.40677887 0.39523482]] \n",
            "\n"
          ]
        }
      ],
      "source": [
        "import tensorflow as tf\n",
        "from tensorflow.keras.layers import Dense\n",
        "from tensorflow.keras.models import Sequential\n",
        "from tensorflow.keras.models import Model\n",
        "\n",
        "X= tf.random.normal(shape=(4,10))\n",
        "\n",
        "# sequential method\n",
        "model = Sequential() \n",
        "model.add(Dense(units =10, activation = 'sigmoid')) \n",
        "model.add(Dense(units =20, activation = 'sigmoid'))\n",
        "\n",
        "Y=model(X)\n",
        "# 이렇게 하면 model이라는 sequential에 X를 넣어서 내가 add한 dense_layer를 모두 통과한 값이 출력된다.\n",
        "'''\n",
        "즉, sequential method는 모든 layer들이 sequential 할때 사용한다.(순서에 맞게 차례차례 넣으면 될 때)\n",
        "'''\n",
        "print(Y.numpy(),\"\\n\")\n",
        "\n",
        "# Model-subclassing\n",
        "class TestModel(Model): \n",
        "  def __init__(self):\n",
        "    super(TestModel,self).__init__()\n",
        "\n",
        "    self.dense1 = Dense(units =10, activation = 'sigmoid')\n",
        "    self.dense2 = Dense(units =20, activation = 'sigmoid')\n",
        "\n",
        "  def call(self,x): \n",
        "    x = self.dense1(x) \n",
        "    x = self.dense2(x)\n",
        "    return x\n",
        "  '''\n",
        "  call 함수는 보면 알 수 있듯이 dense를 내가 원하는 순서에 맞춰서 넣어 줄수 있기 때문에\n",
        "  조작이 가능하다. 따라서, sequantial 보다는 범용적으로 사용이 가능하다.\n",
        "  '''\n",
        "\n",
        "\n",
        "\n",
        "model = TestModel()\n",
        "#print(model.dense1) \n",
        "#print(model.dense2) '\n",
        "\n",
        "Y = model(X) \n",
        "# 이렇게 하면 model을 부르는 것 만으로도 init과 call이 자동으로 수행된다.\n",
        "# __init__ 생성자 자동으로 부르니까, call 역시 __call__ 라고 생각하면 된다.\n",
        "\n",
        "print(Y.numpy(),\"\\n\")\n"
      ]
    },
    {
      "cell_type": "code",
      "source": [
        "class TestModel(Model): \n",
        "  def __init__(self,n_neurons):\n",
        "    super(TestModel,self).__init__()\n",
        "\n",
        "    self.n_neurons = n_neurons\n",
        "    self.dense_layers = list()\n",
        "    for n_neurons in self.n_neurons:\n",
        "      self.dense_layers.append(Dense(units =n_neurons, activation = 'sigmoid'))\n",
        "  \n",
        "  # 혹은 sequential을 직접 넣어서 만들 수도 있다.\n",
        "\n",
        "  def call(self,x):\n",
        "    for dense in self.dense_layers: \n",
        "      x = dense(x)\n",
        "    return x\n",
        "\n",
        "n_neurons = [3,4,5]\n",
        "model = TestModel(n_neurons)\n",
        "\n",
        "#이런 식으로 list를 이용하여 여러개의 layer를 클래스 내부에서 만드는 방법도있다\n"
      ],
      "metadata": {
        "id": "hOiAF1gzwcMg"
      },
      "execution_count": 9,
      "outputs": []
    },
    {
      "cell_type": "markdown",
      "source": [
        "Layers in Models"
      ],
      "metadata": {
        "id": "XILqOaRhykQ6"
      }
    },
    {
      "cell_type": "code",
      "source": [
        "import tensorflow as tf\n",
        "from tensorflow.keras.layers import Dense\n",
        "from tensorflow.keras.models import Sequential\n",
        "from tensorflow.keras.models import Model\n",
        "\n",
        "X= tf.random.normal(shape=(4,10))\n",
        "\n",
        "model = Sequential() \n",
        "model.add(Dense(units =10, activation = 'sigmoid')) \n",
        "model.add(Dense(units =20, activation = 'sigmoid'))\n",
        "\n",
        "Y = model(X)\n",
        "\n",
        "print(type(model.layers)) # type이 list이다.\n",
        "print(model.layers)\n",
        "# 이것을 통해서 Sequential 일 때 model에 더해진 각각의 layer들은 model.layers를 통해서 찾을 수 있다.\n",
        "\n",
        "dense1 = model.layers[0]\n",
        "\n",
        "'''\n",
        "# 사용할 수 있는 메소드들\n",
        "for tmp in dir(dense1): \n",
        "  print(tmp)\n",
        "'''  \n",
        "\n",
        "# 이런 식의 사용이 가능하다.\n",
        "for layer in model.layers:\n",
        "  w,b =layer.get_weights()\n",
        "  print(w.shape, b.shape)"
      ],
      "metadata": {
        "colab": {
          "base_uri": "https://localhost:8080/"
        },
        "id": "J573Q8OLykk3",
        "outputId": "c8deccf8-34c1-4d34-c142-697077654984"
      },
      "execution_count": 16,
      "outputs": [
        {
          "output_type": "stream",
          "name": "stdout",
          "text": [
            "<class 'list'>\n",
            "[<keras.layers.core.dense.Dense object at 0x7f5a1cf98910>, <keras.layers.core.dense.Dense object at 0x7f5a1cf65510>]\n",
            "(10, 10) (10,)\n",
            "(10, 20) (20,)\n"
          ]
        }
      ]
    },
    {
      "cell_type": "markdown",
      "source": [
        "Trainable Variables in Models"
      ],
      "metadata": {
        "id": "pb2RwLd5zISc"
      }
    },
    {
      "cell_type": "code",
      "source": [
        "import tensorflow as tf\n",
        "from tensorflow.keras.layers import Dense\n",
        "from tensorflow.keras.models import Sequential\n",
        "from tensorflow.keras.models import Model\n",
        "\n",
        "X= tf.random.normal(shape=(4,10))\n",
        "\n",
        "model = Sequential() \n",
        "model.add(Dense(units =10, activation = 'sigmoid')) \n",
        "model.add(Dense(units =20, activation = 'sigmoid'))\n",
        "\n",
        "Y = model(X)\n",
        "\n",
        "print(type(model.trainable_variables))\n",
        "print(len(model.trainable_variables))\n",
        "'''\n",
        "결과적으로,\n",
        "trainable_variables 는 list 타입으로 weight, bias의 정보를 가지고 있으므로\n",
        "list 타입이기 때문에 각각 하나씩 뽑아 쓰기도 편하고, 집중해야할 weight와 bias를 확인해 볼 수 있게 해주는 것이다.\n",
        "'''\n",
        "\n",
        "\n",
        "for train_var in model.trainable_variables:\n",
        "  print(train_var.shape) \n",
        "  # 이게 바로 model 안에 있는 weight와 bias를 보여준다. 즉 layer가 2개 니까\n",
        "  # weight 2개 , bias 2개가 출력될 것이다.\n",
        "\n"
      ],
      "metadata": {
        "colab": {
          "base_uri": "https://localhost:8080/"
        },
        "id": "DYcQ6TzNzIZo",
        "outputId": "8503c17e-d114-41cd-d6ef-be39daa77377"
      },
      "execution_count": 18,
      "outputs": [
        {
          "output_type": "stream",
          "name": "stdout",
          "text": [
            "<class 'list'>\n",
            "4\n",
            "(10, 10)\n",
            "(10,)\n",
            "(10, 20)\n",
            "(20,)\n"
          ]
        }
      ]
    },
    {
      "cell_type": "code",
      "source": [
        ""
      ],
      "metadata": {
        "id": "ieoNUH_F0zE8"
      },
      "execution_count": null,
      "outputs": []
    }
  ]
}