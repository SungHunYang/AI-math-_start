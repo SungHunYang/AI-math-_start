{
  "nbformat": 4,
  "nbformat_minor": 0,
  "metadata": {
    "colab": {
      "name": "Softmax Layers.ipynb",
      "provenance": [],
      "collapsed_sections": [],
      "authorship_tag": "ABX9TyNNa8+k0/z5FLoKjJ59VkAc"
    },
    "kernelspec": {
      "name": "python3",
      "display_name": "Python 3"
    },
    "language_info": {
      "name": "python"
    }
  },
  "cells": [
    {
      "cell_type": "markdown",
      "source": [
        "IO of Softmax"
      ],
      "metadata": {
        "id": "OEHrS6Uwu8cH"
      }
    },
    {
      "cell_type": "code",
      "source": [
        "import tensorflow as tf\n",
        "from tensorflow.keras.layers import Activation\n",
        "\n",
        "logits = tf.random.uniform(shape=(2,5),minval=-10,maxval=10)\n",
        "print(logits)\n",
        "\n",
        "softmax_value = Activation('softmax')(logits)\n",
        "softmax_sum = tf.reduce_sum(softmax_value, axis=1) # axis =1 은 행을 축으로 더하라는 뜻\n",
        "\n",
        "print(\"Logits: \\n\",logits.numpy())\n",
        "print(\"Probabilities: \\n\",softmax_value.numpy()) # probablity는 이전의 형태에서 바뀌지는 않는다\n",
        "print(\"Sum of softmax values: \\n\",softmax_sum) # 각 벡터의 합은 확률이기 때문에 1 이여야 하다\n"
      ],
      "metadata": {
        "colab": {
          "base_uri": "https://localhost:8080/"
        },
        "id": "PcvUGJz5u7Oh",
        "outputId": "311323d1-0359-47ee-b8b2-557f7346f8aa"
      },
      "execution_count": 4,
      "outputs": [
        {
          "output_type": "stream",
          "name": "stdout",
          "text": [
            "tf.Tensor(\n",
            "[[-2.002902  -6.7173576  1.4510269  9.018101   5.8508663]\n",
            " [ 9.482376   5.0342846  2.2246857 -2.3976374 -9.025068 ]], shape=(2, 5), dtype=float32)\n",
            "Logits: \n",
            " [[-2.002902  -6.7173576  1.4510269  9.018101   5.8508663]\n",
            " [ 9.482376   5.0342846  2.2246857 -2.3976374 -9.025068 ]]\n",
            "Probabilities: \n",
            " [[1.5685531e-05 1.4061681e-07 4.9604557e-04 9.5909125e-01 4.0396851e-02]\n",
            " [9.8773962e-01 1.1557420e-02 6.9609354e-04 6.8425534e-06 9.0565226e-09]]\n",
            "Sum of softmax values: \n",
            " tf.Tensor([1. 1.], shape=(2,), dtype=float32)\n"
          ]
        }
      ]
    },
    {
      "cell_type": "markdown",
      "source": [
        "Softmax in Dense Layers"
      ],
      "metadata": {
        "id": "v16Ie8IjvAdA"
      }
    },
    {
      "cell_type": "code",
      "execution_count": 5,
      "metadata": {
        "colab": {
          "base_uri": "https://localhost:8080/"
        },
        "id": "PuDVIPwZu4RO",
        "outputId": "eafd2896-d7e4-4995-b166-6c662a581643"
      },
      "outputs": [
        {
          "output_type": "stream",
          "name": "stdout",
          "text": [
            "tf.Tensor(\n",
            "[1.        1.        1.        0.9999999 1.        1.0000001 1.\n",
            " 1.       ], shape=(8,), dtype=float32)\n"
          ]
        }
      ],
      "source": [
        "import tensorflow as tf\n",
        "from tensorflow.keras.layers import Activation\n",
        "from tensorflow.keras.layers import Dense\n",
        "\n",
        "logit = tf.random.uniform(shape=(8,5),minval=-10,maxval=10)\n",
        "dense = Dense(units=8, activation='softmax') # 클래스의 개수만큼 뉴런이 있어야 한다\n",
        "\n",
        "Y = dense(logit)\n",
        "print(tf.reduce_sum(Y,axis=1))\n"
      ]
    },
    {
      "cell_type": "markdown",
      "source": [
        "Multi-class Classifiers"
      ],
      "metadata": {
        "id": "EwpMoe0JvAyS"
      }
    },
    {
      "cell_type": "code",
      "source": [
        "import tensorflow as tf\n",
        "from tensorflow.keras.layers import Dense\n",
        "from tensorflow.keras.models import Model\n",
        "\n",
        "class TestModel(Model):\n",
        "  def __init__(self):\n",
        "    super(TestModel,self).__init__()\n",
        "\n",
        "    self.dense1 = Dense(units=8,activation='relu')\n",
        "    self.dense2 = Dense(units=5,activation='relu')\n",
        "    self.dense3 = Dense(units=3,activation='softmax') \n",
        "  \n",
        "  def call(self,x):\n",
        "    print(\"X : {}\\n{}\\n\".format(x.shape,x.numpy()))\n",
        "\n",
        "    x= self.dense1(x)\n",
        "    print(\"A1 : {}\\n{}\\n\".format(x.shape,x.numpy()))\n",
        "\n",
        "    x= self.dense2(x)\n",
        "    print(\"A2 : {}\\n{}\\n\".format(x.shape,x.numpy()))\n",
        "\n",
        "    x= self.dense3(x)\n",
        "    print(\"Y : {}\\n{}\\n\".format(x.shape,x.numpy()))\n",
        "    print(\"Sum of Vectors:{} \\n\".format(tf.reduce_sum(x,axis=1)))\n",
        "    return x\n",
        "\n",
        "model = TestModel()\n",
        "\n",
        "X = tf.random.uniform(shape=(8,5),minval=-10,maxval=10)\n",
        "Y=model(X)\n"
      ],
      "metadata": {
        "colab": {
          "base_uri": "https://localhost:8080/"
        },
        "id": "Y_7dzJ2XvHrL",
        "outputId": "7758afc5-9ff6-4a01-f1c9-fae7139ebf4c"
      },
      "execution_count": 8,
      "outputs": [
        {
          "output_type": "stream",
          "name": "stdout",
          "text": [
            "X : (8, 5)\n",
            "[[ 9.9858055  -9.429102    3.0639696   8.048315   -2.8625512 ]\n",
            " [ 8.432762   -5.393703   -1.2818432   7.24325    -7.4714637 ]\n",
            " [ 6.401289    3.1712513   1.2216396   0.08388329  2.2804432 ]\n",
            " [-9.970676   -1.2701702  -0.9831829  -5.993998   -9.349148  ]\n",
            " [ 7.8338814  -4.087887    4.2086105   0.36858082  4.279666  ]\n",
            " [-5.8011317  -9.76021    -5.786388    0.0130825  -1.6786671 ]\n",
            " [ 3.3421345   5.899601    5.292404    0.04031944 -0.49292564]\n",
            " [ 6.8085747  -4.0652204   2.1391726  -1.149149    5.467041  ]]\n",
            "\n",
            "A1 : (8, 8)\n",
            "[[0.0000000e+00 7.0953517e+00 1.0520821e+01 6.0323632e-01 6.9365627e-03\n",
            "  7.9504142e+00 4.8975878e+00 0.0000000e+00]\n",
            " [0.0000000e+00 5.7533894e+00 1.2549304e+01 0.0000000e+00 0.0000000e+00\n",
            "  1.1451676e+01 5.9319377e+00 0.0000000e+00]\n",
            " [1.3306445e+00 3.3505120e+00 0.0000000e+00 0.0000000e+00 0.0000000e+00\n",
            "  1.8993272e+00 0.0000000e+00 7.5428504e-01]\n",
            " [0.0000000e+00 0.0000000e+00 3.5380592e+00 0.0000000e+00 8.9586535e+00\n",
            "  0.0000000e+00 3.9058917e+00 3.9371786e+00]\n",
            " [0.0000000e+00 3.7529788e+00 0.0000000e+00 0.0000000e+00 0.0000000e+00\n",
            "  5.4941958e-01 0.0000000e+00 1.2449921e+00]\n",
            " [9.4449198e-01 0.0000000e+00 9.8117857e+00 3.3644950e+00 8.1050701e+00\n",
            "  1.3368442e+00 4.5903101e+00 0.0000000e+00]\n",
            " [0.0000000e+00 5.6573100e+00 0.0000000e+00 0.0000000e+00 0.0000000e+00\n",
            "  0.0000000e+00 0.0000000e+00 4.1942110e+00]\n",
            " [1.4988282e+00 1.4037457e+00 0.0000000e+00 0.0000000e+00 0.0000000e+00\n",
            "  2.5902367e-01 0.0000000e+00 7.4035525e-02]]\n",
            "\n",
            "A2 : (8, 5)\n",
            "[[0.         2.637319   0.         4.076893   5.4913206 ]\n",
            " [0.         4.140119   0.         6.117008   5.5476723 ]\n",
            " [2.0084496  0.         0.         0.         1.1034837 ]\n",
            " [1.7447479  4.558583   0.         0.         3.9490328 ]\n",
            " [1.2567645  0.         0.         0.         1.2779409 ]\n",
            " [0.         8.704752   0.         2.504482   5.4324074 ]\n",
            " [2.4461045  0.         0.         0.         1.9064811 ]\n",
            " [0.5778297  0.04402161 0.         0.         0.27889323]]\n",
            "\n",
            "Y : (8, 3)\n",
            "[[9.5302379e-01 4.0945847e-06 4.6972055e-02]\n",
            " [9.7368288e-01 1.6097167e-07 2.6317054e-02]\n",
            " [1.7135890e-01 2.2842790e-01 6.0021317e-01]\n",
            " [3.6136585e-01 8.9891168e-04 6.3773519e-01]\n",
            " [2.9224193e-01 1.8012463e-01 5.2763337e-01]\n",
            " [8.5885382e-01 4.9137566e-07 1.4114568e-01]\n",
            " [1.7934985e-01 1.3479774e-01 6.8585235e-01]\n",
            " [2.8068161e-01 3.0976984e-01 4.0954849e-01]]\n",
            "\n",
            "Sum of Vectors:[0.99999994 1.0000001  1.         0.99999994 0.99999994 1.\n",
            " 0.99999994 1.        ] \n",
            "\n"
          ]
        }
      ]
    },
    {
      "cell_type": "code",
      "source": [
        ""
      ],
      "metadata": {
        "id": "xKV89PQ8yn7B"
      },
      "execution_count": null,
      "outputs": []
    }
  ]
}
