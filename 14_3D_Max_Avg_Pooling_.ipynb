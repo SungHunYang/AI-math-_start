{
  "nbformat": 4,
  "nbformat_minor": 0,
  "metadata": {
    "colab": {
      "name": "14. 3D Max / Avg Pooling .ipynb",
      "provenance": [],
      "collapsed_sections": [],
      "authorship_tag": "ABX9TyNWAM4s/5nqCdgtFhcZFtiu"
    },
    "kernelspec": {
      "name": "python3",
      "display_name": "Python 3"
    },
    "language_info": {
      "name": "python"
    }
  },
  "cells": [
    {
      "cell_type": "markdown",
      "source": [
        "3D Max Pooling"
      ],
      "metadata": {
        "id": "TEkkoGuyEOc1"
      }
    },
    {
      "cell_type": "code",
      "source": [
        "import math\n",
        "import numpy as np\n",
        "import tensorflow as tf\n",
        "\n",
        "from tensorflow.keras.layers import MaxPooling2D\n",
        "\n",
        "N,n_H,n_W,n_C =1,5,5,3\n",
        "f,s = 2,2\n",
        "\n",
        "x= tf.random.normal(shape = (N, n_H,n_W,n_C))\n",
        "print(\"x:{}\\n{}\\n\\n\".format(x.shape,np.transpose(x.numpy().squeeze(),(2,0,1))))\n",
        "\n",
        "pool_max = MaxPooling2D(pool_size= f, strides=s)\n",
        "pooled_max = pool_max(x)\n",
        "pooled_max_t = np.transpose(pooled_max.numpy().squeeze(),(2,0,1))\n",
        "print(\"pooled_max(Tensorflow): {}\\n{}\".format(pooled_max.shape,pooled_max_t))\n",
        "\n",
        "x = x.numpy().squeeze()\n",
        "n_H_ = (n_H-f)/s + 1\n",
        "n_W_ = (n_W-f)/s + 1\n",
        "n_H_ = math.floor(n_H_) # floor 버림 사용하는 이유는 가우스 대신\n",
        "n_W_ = math.floor(n_W_)\n",
        "\n",
        "pooled_max_man = np.zeros(shape=(n_H_,n_W_,n_C))\n",
        "\n",
        "for c in range(n_C):\n",
        "  c_image = x[:,:,c] # 채널별로 들어오게 한다.\n",
        "\n",
        "  h_ =0\n",
        "  for h in  range(0,n_H-f+1, s):\n",
        "    # strides가 사용되었기 때문에 for문에서도 s만큼씩 띄어서 생각해야함 \n",
        "    w_ = 0\n",
        "    for w in range(0,n_W-f+1, s):\n",
        "      window = c_image[h:h+f,w:w+f]\n",
        "      pooled_max_man[h_,w_,c] = np.max(window)\n",
        "\n",
        "      w_+=1\n",
        "    h_+=1\n",
        "    # h_, w_ 가 쓰이는 이유는 strides 때문에 window는 (0,0), (0,2), (0,4) 이런식으로\n",
        "    # 뽑히게 되는데 output에는 (0,0), (0,1), (0,2) 이런식으로 값이 저장되어야 하기 때문에\n",
        "    # 새로운 변수를 사용한다.\n",
        "\n",
        "pooled_max_t = np.transpose(pooled_max_man,(2,0,1))\n",
        "print(\"pooled_max(Manual) : {}\\n{}\".format(pooled_max_man.shape,pooled_max_t))"
      ],
      "metadata": {
        "colab": {
          "base_uri": "https://localhost:8080/"
        },
        "id": "VzVMaF3qEO6k",
        "outputId": "3c71b662-5ba5-422e-9ddc-1acfb8046cc3"
      },
      "execution_count": 8,
      "outputs": [
        {
          "output_type": "stream",
          "name": "stdout",
          "text": [
            "x:(1, 5, 5, 3)\n",
            "[[[-1.0502676   1.2770982   0.03033404  0.7994895  -0.68586665]\n",
            "  [-0.21004531  0.23316449 -2.4170327   0.1353      0.97690994]\n",
            "  [-1.2539772   0.84725523 -0.45474216  0.83537143  0.85136837]\n",
            "  [-0.0194456  -1.9516449  -0.13189809 -1.4920213   1.4024311 ]\n",
            "  [ 0.12080825  0.15417281 -1.9112555  -0.03213064  0.2915972 ]]\n",
            "\n",
            " [[-0.5239959   1.6991891  -0.96797425 -0.4085148   0.34251624]\n",
            "  [-1.9530315  -0.27445933  0.9207175  -0.81990594 -0.02540627]\n",
            "  [-0.8764721  -0.13476269  1.0693599   0.78142744  0.49529317]\n",
            "  [-0.03037429 -0.00943185 -1.0276674  -0.04842126  1.5352051 ]\n",
            "  [-2.2108836  -0.7447333   0.67215407 -0.8256411   2.019749  ]]\n",
            "\n",
            " [[ 0.5191984   0.05157617  0.22116666  0.7206553   0.39735198]\n",
            "  [ 0.93230593  1.0184425  -0.47100732 -0.80700344 -0.87006724]\n",
            "  [-0.46234825 -0.12444941 -1.4694221  -2.1948888   0.6539985 ]\n",
            "  [ 1.0509129  -1.16504     0.883642   -0.26379132  0.816001  ]\n",
            "  [ 1.7147588  -1.3303858  -0.09947148 -0.8240667  -0.5394334 ]]]\n",
            "\n",
            "\n",
            "pooled_max(Tensorflow): (1, 2, 2, 3)\n",
            "[[[ 1.2770982   0.7994895 ]\n",
            "  [ 0.84725523  0.83537143]]\n",
            "\n",
            " [[ 1.6991891   0.9207175 ]\n",
            "  [-0.00943185  1.0693599 ]]\n",
            "\n",
            " [[ 1.0184425   0.7206553 ]\n",
            "  [ 1.0509129   0.883642  ]]]\n",
            "pooled_max(Manual) : (2, 2, 3)\n",
            "[[[ 1.27709818  0.7994895 ]\n",
            "  [ 0.84725523  0.83537143]]\n",
            "\n",
            " [[ 1.69918907  0.92071748]\n",
            "  [-0.00943185  1.0693599 ]]\n",
            "\n",
            " [[ 1.01844251  0.72065532]\n",
            "  [ 1.05091286  0.88364202]]]\n"
          ]
        }
      ]
    },
    {
      "cell_type": "markdown",
      "source": [
        "Zero Padding2D Layer"
      ],
      "metadata": {
        "id": "8umW1uVQEO-i"
      }
    },
    {
      "cell_type": "code",
      "source": [
        "import tensorflow as tf\n",
        "import numpy as np\n",
        "from tensorflow.keras.layers import ZeroPadding2D\n",
        "\n",
        "images = tf.random.normal(shape = (1,3,3,3))\n",
        "print(np.transpose(images.numpy().squeeze(),(2,0,1)))\n",
        "print(images.shape)\n",
        "zero_padding = ZeroPadding2D(padding=1) # '0'을 주변에 한칸 채우기\n",
        "y= zero_padding(images)\n",
        "\n",
        "print(\"\\n\\n\",np.transpose(y.numpy().squeeze(),(2,0,1)))\n",
        "print(y.shape)\n"
      ],
      "metadata": {
        "colab": {
          "base_uri": "https://localhost:8080/"
        },
        "id": "XnP_r8MrEPC4",
        "outputId": "7b5e58e8-3553-4efb-8323-11aeec6b4484"
      },
      "execution_count": 16,
      "outputs": [
        {
          "output_type": "stream",
          "name": "stdout",
          "text": [
            "[[[-0.3846912   0.59234536 -0.46360686]\n",
            "  [ 0.10525272  0.09319694 -0.08259759]\n",
            "  [ 0.56198275  1.0046477   2.217832  ]]\n",
            "\n",
            " [[ 0.52859145 -1.7081909   0.9380647 ]\n",
            "  [-0.31842768 -1.0372095   0.23745482]\n",
            "  [-0.320393    0.21897717  0.64425457]]\n",
            "\n",
            " [[ 0.8847934  -0.79589087  0.8353858 ]\n",
            "  [-0.5795145  -0.20723662  1.2200066 ]\n",
            "  [ 1.629732    1.8123257   0.9661668 ]]]\n",
            "(1, 3, 3, 3)\n",
            "\n",
            "\n",
            " [[[ 0.          0.          0.          0.          0.        ]\n",
            "  [ 0.         -0.3846912   0.59234536 -0.46360686  0.        ]\n",
            "  [ 0.          0.10525272  0.09319694 -0.08259759  0.        ]\n",
            "  [ 0.          0.56198275  1.0046477   2.217832    0.        ]\n",
            "  [ 0.          0.          0.          0.          0.        ]]\n",
            "\n",
            " [[ 0.          0.          0.          0.          0.        ]\n",
            "  [ 0.          0.52859145 -1.7081909   0.9380647   0.        ]\n",
            "  [ 0.         -0.31842768 -1.0372095   0.23745482  0.        ]\n",
            "  [ 0.         -0.320393    0.21897717  0.64425457  0.        ]\n",
            "  [ 0.          0.          0.          0.          0.        ]]\n",
            "\n",
            " [[ 0.          0.          0.          0.          0.        ]\n",
            "  [ 0.          0.8847934  -0.79589087  0.8353858   0.        ]\n",
            "  [ 0.         -0.5795145  -0.20723662  1.2200066   0.        ]\n",
            "  [ 0.          1.629732    1.8123257   0.9661668   0.        ]\n",
            "  [ 0.          0.          0.          0.          0.        ]]]\n",
            "(1, 5, 5, 3)\n"
          ]
        }
      ]
    },
    {
      "cell_type": "markdown",
      "source": [
        "Zero Padding with Conv2D Layers"
      ],
      "metadata": {
        "id": "eYK001IQEPGv"
      }
    },
    {
      "cell_type": "code",
      "source": [
        "import tensorflow as tf\n",
        "import numpy as np\n",
        "from tensorflow.keras.layers import Conv2D\n",
        "\n",
        "images = tf.random.normal(shape = (1,28,28,3))\n",
        "conv = Conv2D(filters =1, kernel_size=3, padding='same') \n",
        "# conv layer에도 padding을 사용이 가능하다.\n",
        "# 그런데 ZeroPadding2D를 사용하는 이유는 padding을 원하는 숫자로 명시적으로 사용하고 싶기 때문이다.\n",
        "# padding = 'valid'는 padding을 사용 안한다는 소리이고, padding='same' 은 padding을 사용한다는 것이다.\n",
        "# same일때 padding size는 input의 shape이 변하지 않도록 자동으로 맞춰진다.\n",
        "\n",
        "y = conv(images)\n",
        "print(y.shape) # y의 shape이 28 그대로 유지되는것을 볼 수 있는데, 이게 padding의 장점이다\n",
        "# in과 out 사이의 shape이 유지되는\n"
      ],
      "metadata": {
        "colab": {
          "base_uri": "https://localhost:8080/"
        },
        "id": "2yDja_HTEPQB",
        "outputId": "304558f6-b4bc-461c-f2ae-7b8b44a47947"
      },
      "execution_count": 17,
      "outputs": [
        {
          "output_type": "stream",
          "name": "stdout",
          "text": [
            "(1, 28, 28, 1)\n"
          ]
        }
      ]
    },
    {
      "cell_type": "markdown",
      "source": [
        "Strides in Conv2D Layers"
      ],
      "metadata": {
        "id": "d6xuqxm0EPUD"
      }
    },
    {
      "cell_type": "code",
      "source": [
        "import tensorflow as tf\n",
        "from tensorflow.keras.layers import Conv2D\n",
        "\n",
        "images = tf.random.normal(shape = (1,28,28,3))\n",
        "conv = Conv2D(filters =1, kernel_size=3, padding='valid', strides = 2)\n",
        "y=conv(images)\n",
        "\n",
        "\n",
        "print(images.shape)\n",
        "print(y.shape) # strides가 2칸씩 띄어서 window를 만들기 때문에 이러한 결과가 나온다\n",
        "# 그리고 conv 이기 때문에 channel이 1로 줄어들게 된다.."
      ],
      "metadata": {
        "colab": {
          "base_uri": "https://localhost:8080/"
        },
        "id": "jhtChY8BEPX1",
        "outputId": "2f5e0146-592f-42ab-c12c-e03af56d2b21"
      },
      "execution_count": 19,
      "outputs": [
        {
          "output_type": "stream",
          "name": "stdout",
          "text": [
            "(1, 28, 28, 3)\n",
            "(1, 13, 13, 1)\n"
          ]
        }
      ]
    },
    {
      "cell_type": "markdown",
      "source": [
        "Strides in Pooling Layers"
      ],
      "metadata": {
        "id": "uIGhun93M2la"
      }
    },
    {
      "cell_type": "code",
      "source": [
        "import tensorflow as tf\n",
        "from tensorflow.keras.layers import MaxPooling2D\n",
        "\n",
        "images = tf.random.normal(shape = (1,28,28,3))\n",
        "pool = MaxPooling2D(pool_size=3, strides = 2)\n",
        "y=pool(images)\n",
        "\n",
        "\n",
        "print(images.shape)\n",
        "print(y.shape)#  pooling 이기 때문에 channel이 유지된다."
      ],
      "metadata": {
        "colab": {
          "base_uri": "https://localhost:8080/"
        },
        "id": "EgBp02_-M2sW",
        "outputId": "8b13c517-679e-4ab9-e883-890276343bfd"
      },
      "execution_count": 20,
      "outputs": [
        {
          "output_type": "stream",
          "name": "stdout",
          "text": [
            "(1, 28, 28, 3)\n",
            "(1, 13, 13, 3)\n"
          ]
        }
      ]
    }
  ]
}